{
 "cells": [
  {
   "cell_type": "code",
   "execution_count": 38,
   "id": "0b23ac0b",
   "metadata": {},
   "outputs": [
    {
     "ename": "TypeError",
     "evalue": "Can't instantiate abstract class four with abstract method fun1",
     "output_type": "error",
     "traceback": [
      "\u001b[1;31m---------------------------------------------------------------------------\u001b[0m",
      "\u001b[1;31mTypeError\u001b[0m                                 Traceback (most recent call last)",
      "\u001b[1;32m~\\AppData\\Local\\Temp/ipykernel_6644/2319503787.py\u001b[0m in \u001b[0;36m<module>\u001b[1;34m\u001b[0m\n\u001b[0;32m     18\u001b[0m         \u001b[0mprint\u001b[0m\u001b[1;33m(\u001b[0m\u001b[1;34m\"func 4 in class 4\"\u001b[0m\u001b[1;33m)\u001b[0m\u001b[1;33m\u001b[0m\u001b[1;33m\u001b[0m\u001b[0m\n\u001b[0;32m     19\u001b[0m \u001b[1;33m\u001b[0m\u001b[0m\n\u001b[1;32m---> 20\u001b[1;33m \u001b[0mf\u001b[0m \u001b[1;33m=\u001b[0m \u001b[0mfour\u001b[0m\u001b[1;33m(\u001b[0m\u001b[1;33m)\u001b[0m\u001b[1;33m\u001b[0m\u001b[1;33m\u001b[0m\u001b[0m\n\u001b[0m\u001b[0;32m     21\u001b[0m \u001b[0mf\u001b[0m\u001b[1;33m.\u001b[0m\u001b[0mfun1\u001b[0m\u001b[1;33m(\u001b[0m\u001b[1;33m)\u001b[0m\u001b[1;33m\u001b[0m\u001b[1;33m\u001b[0m\u001b[0m\n",
      "\u001b[1;31mTypeError\u001b[0m: Can't instantiate abstract class four with abstract method fun1"
     ]
    }
   ],
   "source": [
    "from abc import ABC,abstractmethod\n",
    "\n",
    "class one(ABC):\n",
    "    @abstractmethod\n",
    "    def fun1(self):\n",
    "        print(\"hello\")\n",
    "    \n",
    "class two(one):\n",
    "    def fun2(self):\n",
    "        print(\"func 2 in class 2\")\n",
    "    \n",
    "class three(two):\n",
    "    def fun3(self):\n",
    "        print(\"func3 in class 3\")\n",
    "    \n",
    "class four(three):\n",
    "    def fun4(self):\n",
    "        print(\"func 4 in class 4\")\n",
    "        \n",
    "f = four()\n",
    "f.fun1()"
   ]
  },
  {
   "cell_type": "code",
   "execution_count": 39,
   "id": "8e3b13bb",
   "metadata": {},
   "outputs": [
    {
     "ename": "AttributeError",
     "evalue": "'three' object has no attribute 'fun2'",
     "output_type": "error",
     "traceback": [
      "\u001b[1;31m---------------------------------------------------------------------------\u001b[0m",
      "\u001b[1;31mAttributeError\u001b[0m                            Traceback (most recent call last)",
      "\u001b[1;32m~\\AppData\\Local\\Temp/ipykernel_6644/2886917328.py\u001b[0m in \u001b[0;36m<module>\u001b[1;34m\u001b[0m\n\u001b[1;32m----> 1\u001b[1;33m \u001b[0mf\u001b[0m\u001b[1;33m.\u001b[0m\u001b[0mfun2\u001b[0m\u001b[1;33m(\u001b[0m\u001b[1;33m)\u001b[0m\u001b[1;33m\u001b[0m\u001b[1;33m\u001b[0m\u001b[0m\n\u001b[0m",
      "\u001b[1;31mAttributeError\u001b[0m: 'three' object has no attribute 'fun2'"
     ]
    }
   ],
   "source": [
    "f.fun2()"
   ]
  },
  {
   "cell_type": "code",
   "execution_count": 40,
   "id": "403ed5ec",
   "metadata": {},
   "outputs": [
    {
     "name": "stdout",
     "output_type": "stream",
     "text": [
      "func3 in class 3\n"
     ]
    }
   ],
   "source": [
    "f.fun3()"
   ]
  },
  {
   "cell_type": "code",
   "execution_count": 41,
   "id": "36371b32",
   "metadata": {},
   "outputs": [
    {
     "ename": "AttributeError",
     "evalue": "'three' object has no attribute 'fun4'",
     "output_type": "error",
     "traceback": [
      "\u001b[1;31m---------------------------------------------------------------------------\u001b[0m",
      "\u001b[1;31mAttributeError\u001b[0m                            Traceback (most recent call last)",
      "\u001b[1;32m~\\AppData\\Local\\Temp/ipykernel_6644/3197164511.py\u001b[0m in \u001b[0;36m<module>\u001b[1;34m\u001b[0m\n\u001b[1;32m----> 1\u001b[1;33m \u001b[0mf\u001b[0m\u001b[1;33m.\u001b[0m\u001b[0mfun4\u001b[0m\u001b[1;33m(\u001b[0m\u001b[1;33m)\u001b[0m\u001b[1;33m\u001b[0m\u001b[1;33m\u001b[0m\u001b[0m\n\u001b[0m",
      "\u001b[1;31mAttributeError\u001b[0m: 'three' object has no attribute 'fun4'"
     ]
    }
   ],
   "source": [
    "f.fun4()"
   ]
  },
  {
   "cell_type": "code",
   "execution_count": 37,
   "id": "3eb34672",
   "metadata": {},
   "outputs": [
    {
     "ename": "TypeError",
     "evalue": "Can't instantiate abstract class four with abstract method fun1",
     "output_type": "error",
     "traceback": [
      "\u001b[1;31m---------------------------------------------------------------------------\u001b[0m",
      "\u001b[1;31mTypeError\u001b[0m                                 Traceback (most recent call last)",
      "\u001b[1;32m~\\AppData\\Local\\Temp/ipykernel_6644/2319503787.py\u001b[0m in \u001b[0;36m<module>\u001b[1;34m\u001b[0m\n\u001b[0;32m     18\u001b[0m         \u001b[0mprint\u001b[0m\u001b[1;33m(\u001b[0m\u001b[1;34m\"func 4 in class 4\"\u001b[0m\u001b[1;33m)\u001b[0m\u001b[1;33m\u001b[0m\u001b[1;33m\u001b[0m\u001b[0m\n\u001b[0;32m     19\u001b[0m \u001b[1;33m\u001b[0m\u001b[0m\n\u001b[1;32m---> 20\u001b[1;33m \u001b[0mf\u001b[0m \u001b[1;33m=\u001b[0m \u001b[0mfour\u001b[0m\u001b[1;33m(\u001b[0m\u001b[1;33m)\u001b[0m\u001b[1;33m\u001b[0m\u001b[1;33m\u001b[0m\u001b[0m\n\u001b[0m\u001b[0;32m     21\u001b[0m \u001b[0mf\u001b[0m\u001b[1;33m.\u001b[0m\u001b[0mfun1\u001b[0m\u001b[1;33m(\u001b[0m\u001b[1;33m)\u001b[0m\u001b[1;33m\u001b[0m\u001b[1;33m\u001b[0m\u001b[0m\n",
      "\u001b[1;31mTypeError\u001b[0m: Can't instantiate abstract class four with abstract method fun1"
     ]
    }
   ],
   "source": [
    "from abc import ABC,abstractmethod\n",
    "\n",
    "class one(ABC):\n",
    "    @abstractmethod\n",
    "    def fun1(self):\n",
    "        print(\"hello\")\n",
    "    \n",
    "class two(one):\n",
    "    def fun2(self):\n",
    "        print(\"func 2 in class 2\")\n",
    "    \n",
    "class three(two):\n",
    "    def fun3(self):\n",
    "        print(\"func3 in class 3\")\n",
    "    \n",
    "class four(three):\n",
    "    def fun4(self):\n",
    "        print(\"func 4 in class 4\")\n",
    "        \n",
    "f = four()\n",
    "f.fun1()"
   ]
  },
  {
   "cell_type": "code",
   "execution_count": 42,
   "id": "99e08e65",
   "metadata": {},
   "outputs": [
    {
     "ename": "TypeError",
     "evalue": "Can't instantiate abstract class four with abstract method fun1",
     "output_type": "error",
     "traceback": [
      "\u001b[1;31m---------------------------------------------------------------------------\u001b[0m",
      "\u001b[1;31mTypeError\u001b[0m                                 Traceback (most recent call last)",
      "\u001b[1;32m~\\AppData\\Local\\Temp/ipykernel_6644/2319503787.py\u001b[0m in \u001b[0;36m<module>\u001b[1;34m\u001b[0m\n\u001b[0;32m     18\u001b[0m         \u001b[0mprint\u001b[0m\u001b[1;33m(\u001b[0m\u001b[1;34m\"func 4 in class 4\"\u001b[0m\u001b[1;33m)\u001b[0m\u001b[1;33m\u001b[0m\u001b[1;33m\u001b[0m\u001b[0m\n\u001b[0;32m     19\u001b[0m \u001b[1;33m\u001b[0m\u001b[0m\n\u001b[1;32m---> 20\u001b[1;33m \u001b[0mf\u001b[0m \u001b[1;33m=\u001b[0m \u001b[0mfour\u001b[0m\u001b[1;33m(\u001b[0m\u001b[1;33m)\u001b[0m\u001b[1;33m\u001b[0m\u001b[1;33m\u001b[0m\u001b[0m\n\u001b[0m\u001b[0;32m     21\u001b[0m \u001b[0mf\u001b[0m\u001b[1;33m.\u001b[0m\u001b[0mfun1\u001b[0m\u001b[1;33m(\u001b[0m\u001b[1;33m)\u001b[0m\u001b[1;33m\u001b[0m\u001b[1;33m\u001b[0m\u001b[0m\n",
      "\u001b[1;31mTypeError\u001b[0m: Can't instantiate abstract class four with abstract method fun1"
     ]
    }
   ],
   "source": [
    "from abc import ABC,abstractmethod\n",
    "\n",
    "class one(ABC):\n",
    "    @abstractmethod\n",
    "    def fun1(self):\n",
    "        print(\"hello\")\n",
    "    \n",
    "class two(one):\n",
    "    def fun2(self):\n",
    "        print(\"func 2 in class 2\")\n",
    "    \n",
    "class three(two):\n",
    "    def fun3(self):\n",
    "        print(\"func3 in class 3\")\n",
    "    \n",
    "class four(three):\n",
    "    def fun4(self):\n",
    "        print(\"func 4 in class 4\")\n",
    "        \n",
    "f = four()\n",
    "f.fun1()"
   ]
  },
  {
   "cell_type": "code",
   "execution_count": 43,
   "id": "54e97e1a",
   "metadata": {},
   "outputs": [
    {
     "ename": "AttributeError",
     "evalue": "'three' object has no attribute 'fun2'",
     "output_type": "error",
     "traceback": [
      "\u001b[1;31m---------------------------------------------------------------------------\u001b[0m",
      "\u001b[1;31mAttributeError\u001b[0m                            Traceback (most recent call last)",
      "\u001b[1;32m~\\AppData\\Local\\Temp/ipykernel_6644/2886917328.py\u001b[0m in \u001b[0;36m<module>\u001b[1;34m\u001b[0m\n\u001b[1;32m----> 1\u001b[1;33m \u001b[0mf\u001b[0m\u001b[1;33m.\u001b[0m\u001b[0mfun2\u001b[0m\u001b[1;33m(\u001b[0m\u001b[1;33m)\u001b[0m\u001b[1;33m\u001b[0m\u001b[1;33m\u001b[0m\u001b[0m\n\u001b[0m",
      "\u001b[1;31mAttributeError\u001b[0m: 'three' object has no attribute 'fun2'"
     ]
    }
   ],
   "source": [
    "f.fun2()"
   ]
  },
  {
   "cell_type": "code",
   "execution_count": 44,
   "id": "0fd8c612",
   "metadata": {},
   "outputs": [
    {
     "name": "stdout",
     "output_type": "stream",
     "text": [
      "func3 in class 3\n"
     ]
    }
   ],
   "source": [
    "f.fun3()"
   ]
  },
  {
   "cell_type": "code",
   "execution_count": 45,
   "id": "9809121a",
   "metadata": {},
   "outputs": [
    {
     "ename": "AttributeError",
     "evalue": "'three' object has no attribute 'fun4'",
     "output_type": "error",
     "traceback": [
      "\u001b[1;31m---------------------------------------------------------------------------\u001b[0m",
      "\u001b[1;31mAttributeError\u001b[0m                            Traceback (most recent call last)",
      "\u001b[1;32m~\\AppData\\Local\\Temp/ipykernel_6644/3197164511.py\u001b[0m in \u001b[0;36m<module>\u001b[1;34m\u001b[0m\n\u001b[1;32m----> 1\u001b[1;33m \u001b[0mf\u001b[0m\u001b[1;33m.\u001b[0m\u001b[0mfun4\u001b[0m\u001b[1;33m(\u001b[0m\u001b[1;33m)\u001b[0m\u001b[1;33m\u001b[0m\u001b[1;33m\u001b[0m\u001b[0m\n\u001b[0m",
      "\u001b[1;31mAttributeError\u001b[0m: 'three' object has no attribute 'fun4'"
     ]
    }
   ],
   "source": [
    "f.fun4()"
   ]
  },
  {
   "cell_type": "code",
   "execution_count": 47,
   "id": "aa5e8ce9",
   "metadata": {},
   "outputs": [
    {
     "name": "stdout",
     "output_type": "stream",
     "text": [
      "two\n",
      "three\n",
      "four\n"
     ]
    }
   ],
   "source": [
    "from abc import ABC, abstractmethod\n",
    "class one(ABC):\n",
    "        @abstractmethod\n",
    "        def fun(self):\n",
    "               pass\n",
    "class two(one):\n",
    "        def fun(self):\n",
    "               print(\"two\")\n",
    "\n",
    "class three(one):\n",
    "        def fun(self):\n",
    "               print(\"three\")\n",
    "\n",
    "class four(one):\n",
    "        def fun(self):\n",
    "               print(\"four\")\n",
    "\n",
    "a=two()\n",
    "a.fun()\n",
    "\n",
    "\n",
    "b=three()\n",
    "b.fun()\n",
    "\n",
    "c=four()\n",
    "c.fun()\n"
   ]
  },
  {
   "cell_type": "code",
   "execution_count": 48,
   "id": "0dff68e1",
   "metadata": {},
   "outputs": [
    {
     "name": "stdout",
     "output_type": "stream",
     "text": [
      "two\n",
      "three\n",
      "four\n"
     ]
    }
   ],
   "source": [
    "from abc import ABC, abstractmethod\n",
    "class one(ABC):\n",
    "        def fun(self):\n",
    "               pass\n",
    "class two(one):\n",
    "        def fun(self):\n",
    "               print(\"two\")\n",
    "\n",
    "class three(one):\n",
    "        def fun(self):\n",
    "               print(\"three\")\n",
    "\n",
    "class four(one):\n",
    "        def fun(self):\n",
    "               print(\"four\")\n",
    "\n",
    "d=one()\n",
    "d.fun()\n",
    "\n",
    "a=two()\n",
    "a.fun()\n",
    "\n",
    "\n",
    "b=three()\n",
    "b.fun()\n",
    "\n",
    "c=four()\n",
    "c.fun()\n"
   ]
  },
  {
   "cell_type": "markdown",
   "id": "4000d4d9",
   "metadata": {},
   "source": [
    "# Advance function"
   ]
  },
  {
   "cell_type": "code",
   "execution_count": 49,
   "id": "c3d6e2d5",
   "metadata": {},
   "outputs": [
    {
     "data": {
      "text/plain": [
       "3"
      ]
     },
     "execution_count": 49,
     "metadata": {},
     "output_type": "execute_result"
    }
   ],
   "source": [
    "def add(x,y):\n",
    "    c = x+y\n",
    "    return c\n",
    "add(1,2)"
   ]
  },
  {
   "cell_type": "code",
   "execution_count": 53,
   "id": "1e4bfcc4",
   "metadata": {},
   "outputs": [],
   "source": [
    "x = lambda a,b:a+b*a-b\n"
   ]
  },
  {
   "cell_type": "code",
   "execution_count": 54,
   "id": "a8bf557b",
   "metadata": {},
   "outputs": [
    {
     "data": {
      "text/plain": [
       "265"
      ]
     },
     "execution_count": 54,
     "metadata": {},
     "output_type": "execute_result"
    }
   ],
   "source": [
    "x(34,7)"
   ]
  },
  {
   "cell_type": "code",
   "execution_count": 60,
   "id": "148c7e97",
   "metadata": {},
   "outputs": [],
   "source": [
    "#wap to find max number from 56 & 87 through lambda function.\n",
    "\n",
    "a = lambda x,y:True if x>y else False "
   ]
  },
  {
   "cell_type": "code",
   "execution_count": 63,
   "id": "a8d976ab",
   "metadata": {},
   "outputs": [
    {
     "data": {
      "text/plain": [
       "True"
      ]
     },
     "execution_count": 63,
     "metadata": {},
     "output_type": "execute_result"
    }
   ],
   "source": [
    "a(870,100)"
   ]
  },
  {
   "cell_type": "code",
   "execution_count": 64,
   "id": "fcdd0cca",
   "metadata": {},
   "outputs": [],
   "source": [
    "a = lambda x,y:print(x) if x>y else print(y) "
   ]
  },
  {
   "cell_type": "code",
   "execution_count": 65,
   "id": "efd64346",
   "metadata": {},
   "outputs": [
    {
     "name": "stdout",
     "output_type": "stream",
     "text": [
      "67\n"
     ]
    }
   ],
   "source": [
    "a(34,67)"
   ]
  },
  {
   "cell_type": "code",
   "execution_count": null,
   "id": "920d28f5",
   "metadata": {},
   "outputs": [],
   "source": []
  }
 ],
 "metadata": {
  "kernelspec": {
   "display_name": "Python 3 (ipykernel)",
   "language": "python",
   "name": "python3"
  },
  "language_info": {
   "codemirror_mode": {
    "name": "ipython",
    "version": 3
   },
   "file_extension": ".py",
   "mimetype": "text/x-python",
   "name": "python",
   "nbconvert_exporter": "python",
   "pygments_lexer": "ipython3",
   "version": "3.9.7"
  }
 },
 "nbformat": 4,
 "nbformat_minor": 5
}
