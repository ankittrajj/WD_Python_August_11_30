{
 "cells": [
  {
   "cell_type": "code",
   "execution_count": 1,
   "id": "e6818c3e",
   "metadata": {},
   "outputs": [
    {
     "name": "stdout",
     "output_type": "stream",
     "text": [
      "1234556\n"
     ]
    }
   ],
   "source": [
    "# string ----> '12232446567 adshjgfhsbfk ##&R$&#%^'\n",
    "a = '1234556'\n",
    "print(a)"
   ]
  },
  {
   "cell_type": "code",
   "execution_count": 2,
   "id": "426ef231",
   "metadata": {},
   "outputs": [
    {
     "data": {
      "text/plain": [
       "str"
      ]
     },
     "execution_count": 2,
     "metadata": {},
     "output_type": "execute_result"
    }
   ],
   "source": [
    "type(a)"
   ]
  },
  {
   "cell_type": "code",
   "execution_count": 3,
   "id": "34a56e4d",
   "metadata": {},
   "outputs": [
    {
     "name": "stdout",
     "output_type": "stream",
     "text": [
      "hello bhai !!\n"
     ]
    }
   ],
   "source": [
    "a = 'hello bhai !!'\n",
    "print(a)"
   ]
  },
  {
   "cell_type": "code",
   "execution_count": 4,
   "id": "ed043933",
   "metadata": {},
   "outputs": [
    {
     "data": {
      "text/plain": [
       "str"
      ]
     },
     "execution_count": 4,
     "metadata": {},
     "output_type": "execute_result"
    }
   ],
   "source": [
    "type(a)"
   ]
  },
  {
   "cell_type": "code",
   "execution_count": 5,
   "id": "77ddc68e",
   "metadata": {},
   "outputs": [
    {
     "name": "stdout",
     "output_type": "stream",
     "text": [
      "!@#%%^&^&*\n"
     ]
    }
   ],
   "source": [
    "x = '!@#%%^&^&*'\n",
    "print(x)"
   ]
  },
  {
   "cell_type": "code",
   "execution_count": 6,
   "id": "c3ae82ef",
   "metadata": {},
   "outputs": [
    {
     "data": {
      "text/plain": [
       "str"
      ]
     },
     "execution_count": 6,
     "metadata": {},
     "output_type": "execute_result"
    }
   ],
   "source": [
    "type(x)"
   ]
  },
  {
   "cell_type": "code",
   "execution_count": 7,
   "id": "d7f115aa",
   "metadata": {},
   "outputs": [],
   "source": [
    "y = 'Abhishek123#$@gmail.com'"
   ]
  },
  {
   "cell_type": "code",
   "execution_count": 8,
   "id": "b83d26c8",
   "metadata": {},
   "outputs": [
    {
     "name": "stdout",
     "output_type": "stream",
     "text": [
      "Abhishek123#$@gmail.com\n"
     ]
    }
   ],
   "source": [
    "print(y)"
   ]
  },
  {
   "cell_type": "code",
   "execution_count": 9,
   "id": "e3b0990f",
   "metadata": {},
   "outputs": [
    {
     "data": {
      "text/plain": [
       "str"
      ]
     },
     "execution_count": 9,
     "metadata": {},
     "output_type": "execute_result"
    }
   ],
   "source": [
    "type(y)"
   ]
  },
  {
   "cell_type": "code",
   "execution_count": 12,
   "id": "1a616fa3",
   "metadata": {},
   "outputs": [
    {
     "name": "stdout",
     "output_type": "stream",
     "text": [
      "Adult\n"
     ]
    }
   ],
   "source": [
    "# There is an individual who was little \n",
    "# bit confused about hist adulthood.\n",
    "# #wap to find that gut is adult or not??\n",
    "# hint -----> 18+ age ----> adult\n",
    "# -18 --------> child\n",
    "\n",
    "age = 18\n",
    "if age > 18:\n",
    "    print(\"Adult\")\n",
    "else:\n",
    "    print(\"Child\")\n"
   ]
  },
  {
   "cell_type": "code",
   "execution_count": 14,
   "id": "306ff50a",
   "metadata": {},
   "outputs": [
    {
     "name": "stdout",
     "output_type": "stream",
     "text": [
      "Teenager\n"
     ]
    }
   ],
   "source": [
    "age = 18\n",
    "if age >= 18:\n",
    "    print(\"Adult\")\n",
    "elif age == 18:\n",
    "    print(\"Teenager\")\n",
    "else:\n",
    "    print(\"Child\")"
   ]
  },
  {
   "cell_type": "code",
   "execution_count": 15,
   "id": "17f9975f",
   "metadata": {},
   "outputs": [
    {
     "name": "stdout",
     "output_type": "stream",
     "text": [
      "Not SQ\n"
     ]
    }
   ],
   "source": [
    "# rule for elif\n",
    "# use after if \n",
    "# use else after elif\n",
    "\n",
    "\n",
    "\n",
    "# Take values of length and breadth of a \n",
    "# rectangle from user and check \n",
    "# if it is square or not.\n",
    "\n",
    "\n",
    "l = 6\n",
    "b = 3\n",
    "a = 8\n",
    "area_of_rec = l*b\n",
    "area_of_sq = a**2\n",
    "\n",
    "if area_of_rec == area_of_sq:\n",
    "    print(\"SQ\")\n",
    "else:\n",
    "    print(\"Not SQ\")\n"
   ]
  },
  {
   "cell_type": "code",
   "execution_count": 18,
   "id": "f998e8ef",
   "metadata": {},
   "outputs": [
    {
     "name": "stdout",
     "output_type": "stream",
     "text": [
      "110.0\n",
      "990.0\n"
     ]
    }
   ],
   "source": [
    "# A shop will give discount of 10% if the cost\n",
    "# of purchased quantity is more than 10.\n",
    "# Ask user for quantity\n",
    "# Suppose, one unit will cost 100.\n",
    "# Judge and print total cost for user.\n",
    "\n",
    "\n",
    "unit_price = 100\n",
    "purchase = 11\n",
    "price = unit_price*purchase\n",
    "\n",
    "if price >= 1000:\n",
    "    dis = (price*10)/100\n",
    "    pay = price - dis\n",
    "    print(dis)\n",
    "    print(pay )\n"
   ]
  },
  {
   "cell_type": "code",
   "execution_count": 24,
   "id": "64b67679",
   "metadata": {},
   "outputs": [
    {
     "name": "stdout",
     "output_type": "stream",
     "text": [
      "Enter your marks25\n"
     ]
    }
   ],
   "source": [
    "# A school has following rules for grading system:\n",
    "# a. Below 25 - F\n",
    "# b. 25 to 45 - E\n",
    "# c. 45 to 50 - D\n",
    "# d. 50 to 60 - C\n",
    "# e. 60 to 80 - B\n",
    "# f. Above 80 - A\n",
    "# Ask user to enter marks and print the corresponding grade.\n",
    "\n",
    "marks = int(input(\"Enter your marks\"))\n",
    "if marks>80:\n",
    "    print(\"A\")\n",
    "elif marks>60 and marks <= 80:\n",
    "    print(\"B\")\n",
    "elif marks>50 and marks<=60:\n",
    "    print(\"C\")\n",
    "elif marks>45 and marks<=50:\n",
    "    print(\"D\")\n",
    "elif marks>25 and marks<=45:\n",
    "    print(\"E\")\n",
    "elif marks<25:\n",
    "    print(\"F\")"
   ]
  },
  {
   "cell_type": "code",
   "execution_count": 40,
   "id": "bbbb16cf",
   "metadata": {},
   "outputs": [
    {
     "name": "stdout",
     "output_type": "stream",
     "text": [
      "73.33333333333333\n",
      "Not Allowed\n"
     ]
    }
   ],
   "source": [
    "# A student will not be allowed to sit in \n",
    "# exam if his/her attendance is less than 75%.\n",
    "\n",
    "# Take following input from user\n",
    "# Number of classes held\n",
    "# Number of classes attended.\n",
    "# And print\n",
    "# percentage of class attended\n",
    "# Is student is allowed to sit in exam or not.\n",
    "\n",
    "class_held = 120\n",
    "attend_class = 88\n",
    "\n",
    "per_class_attend = (attend_class/class_held)*100\n",
    "print(per_class_attend)\n",
    "\n",
    "if per_class_attend > 75:\n",
    "    print(\"Allowed\")\n",
    "else:\n",
    "    print(\"Not Allowed\")\n",
    "\n",
    "\n"
   ]
  },
  {
   "cell_type": "code",
   "execution_count": 43,
   "id": "e043de04",
   "metadata": {},
   "outputs": [
    {
     "name": "stdout",
     "output_type": "stream",
     "text": [
      "8.0\n",
      "Type Y for yes & N for no for medical condition!!N\n",
      "Not Allowed\n"
     ]
    }
   ],
   "source": [
    "# Modify the above question to allow \n",
    "# student to sit if he/she has medical \n",
    "# cause. Ask user if he/she has medical \n",
    "# cause or not ( 'Y' or 'N' ) and \n",
    "# print accordingly\n",
    "\n",
    "\n",
    "class_held = 100\n",
    "attend_class = 8\n",
    "\n",
    "per_class_attend = (attend_class/class_held)*100\n",
    "print(per_class_attend)\n",
    "\n",
    "if per_class_attend > 75:\n",
    "    print(\"Allowed\")\n",
    "else:\n",
    "    med = input(\"Type Y for yes & N for no for medical condition!!\")\n",
    "    if med == \"Y\":\n",
    "        print(\"Allowed\")\n",
    "    else:\n",
    "        print(\"Not Allowed\")"
   ]
  },
  {
   "cell_type": "code",
   "execution_count": null,
   "id": "65df232d",
   "metadata": {},
   "outputs": [],
   "source": [
    "# Modify the above code and you are allowed to sit in the exam\n",
    "# if you will pay the fine of 2000 with 5% low attendance\n",
    "# and above 5% you have to pay 10k as fine to sit in the exam.\n"
   ]
  }
 ],
 "metadata": {
  "kernelspec": {
   "display_name": "Python 3 (ipykernel)",
   "language": "python",
   "name": "python3"
  },
  "language_info": {
   "codemirror_mode": {
    "name": "ipython",
    "version": 3
   },
   "file_extension": ".py",
   "mimetype": "text/x-python",
   "name": "python",
   "nbconvert_exporter": "python",
   "pygments_lexer": "ipython3",
   "version": "3.9.7"
  }
 },
 "nbformat": 4,
 "nbformat_minor": 5
}
