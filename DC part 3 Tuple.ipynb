{
 "cells": [
  {
   "cell_type": "code",
   "execution_count": 1,
   "id": "4a10e6f5",
   "metadata": {},
   "outputs": [
    {
     "data": {
      "text/plain": [
       "['hello', 4, 3, 2, 1]"
      ]
     },
     "execution_count": 1,
     "metadata": {},
     "output_type": "execute_result"
    }
   ],
   "source": [
    "# Wap \n",
    "\n",
    "\n",
    "x = [1,2,3,4,'hello']\n",
    "x[::-1]"
   ]
  },
  {
   "cell_type": "code",
   "execution_count": 5,
   "id": "05a118c7",
   "metadata": {},
   "outputs": [
    {
     "name": "stdout",
     "output_type": "stream",
     "text": [
      "[23, 67, 90, 45]\n"
     ]
    }
   ],
   "source": [
    "x = [45,67,90,23]\n",
    "x[0],x[-1]= x[-1],x[0]\n",
    "print(x)"
   ]
  },
  {
   "cell_type": "code",
   "execution_count": 12,
   "id": "45cd65ca",
   "metadata": {},
   "outputs": [
    {
     "name": "stdout",
     "output_type": "stream",
     "text": [
      "Greatest num 5555\n"
     ]
    }
   ],
   "source": [
    "x = [5555,78,67,221,990,-67,34,1000]\n",
    "max = x[0]\n",
    "for i in x:\n",
    "    if i>max:\n",
    "        max = i\n",
    "print(\"Greatest num\",max)"
   ]
  },
  {
   "cell_type": "code",
   "execution_count": 28,
   "id": "5d06c1c5",
   "metadata": {},
   "outputs": [
    {
     "name": "stdout",
     "output_type": "stream",
     "text": [
      "Even number 78\n",
      "Odd number 89\n",
      "Odd number 45\n",
      "Odd number 23\n",
      "Even number 100\n",
      "Count even numb------> 2\n",
      "Count odd numb------> 3\n"
     ]
    }
   ],
   "source": [
    "#wap to count odd & even number in a list.\n",
    "x = [ 78,89,45,23,100]\n",
    "count_even = 0 \n",
    "count_odd = 0 \n",
    "for i in x:\n",
    "    if i%2==0:\n",
    "        print(\"Even number\",i)\n",
    "        count_even = count_even +1\n",
    "\n",
    "    else:\n",
    "        count_odd = count_odd+1\n",
    "        print(\"Odd number\",i)\n",
    "        \n",
    "print(\"Count even numb------>\",count_even)\n",
    "print(\"Count odd numb------>\",count_odd)"
   ]
  },
  {
   "cell_type": "code",
   "execution_count": 38,
   "id": "99ffbcb3",
   "metadata": {},
   "outputs": [
    {
     "name": "stdout",
     "output_type": "stream",
     "text": [
      "89\n",
      "Not similar\n"
     ]
    }
   ],
   "source": [
    "a = [34,45,89,56]\n",
    "b = [67,89,23,90]\n",
    "for i in a:\n",
    "    for j in b:\n",
    "        if i == j :\n",
    "             print(i)\n",
    "else:\n",
    "    print(\"Not similar\")\n",
    "    \n"
   ]
  },
  {
   "cell_type": "code",
   "execution_count": 39,
   "id": "245e86d3",
   "metadata": {},
   "outputs": [],
   "source": [
    "#wap to create single element list.\n",
    "# Wap to create a empty list."
   ]
  },
  {
   "cell_type": "code",
   "execution_count": 40,
   "id": "2488b8ce",
   "metadata": {},
   "outputs": [],
   "source": [
    "a = [23]"
   ]
  },
  {
   "cell_type": "code",
   "execution_count": 41,
   "id": "be80c6c4",
   "metadata": {},
   "outputs": [
    {
     "data": {
      "text/plain": [
       "[23]"
      ]
     },
     "execution_count": 41,
     "metadata": {},
     "output_type": "execute_result"
    }
   ],
   "source": [
    "a"
   ]
  },
  {
   "cell_type": "code",
   "execution_count": 42,
   "id": "2f43655b",
   "metadata": {},
   "outputs": [
    {
     "data": {
      "text/plain": [
       "list"
      ]
     },
     "execution_count": 42,
     "metadata": {},
     "output_type": "execute_result"
    }
   ],
   "source": [
    "type(a)"
   ]
  },
  {
   "cell_type": "code",
   "execution_count": 43,
   "id": "ff607914",
   "metadata": {},
   "outputs": [
    {
     "name": "stdout",
     "output_type": "stream",
     "text": [
      "[]\n"
     ]
    }
   ],
   "source": [
    "a = []\n",
    "print(a)"
   ]
  },
  {
   "cell_type": "code",
   "execution_count": 44,
   "id": "4ca9282f",
   "metadata": {},
   "outputs": [
    {
     "data": {
      "text/plain": [
       "list"
      ]
     },
     "execution_count": 44,
     "metadata": {},
     "output_type": "execute_result"
    }
   ],
   "source": [
    "type(a)"
   ]
  },
  {
   "cell_type": "markdown",
   "id": "327841ac",
   "metadata": {},
   "source": [
    "# Tuple"
   ]
  },
  {
   "cell_type": "code",
   "execution_count": 45,
   "id": "0f466517",
   "metadata": {},
   "outputs": [],
   "source": [
    "a = (56,67,89)"
   ]
  },
  {
   "cell_type": "code",
   "execution_count": 46,
   "id": "437acd4f",
   "metadata": {},
   "outputs": [
    {
     "data": {
      "text/plain": [
       "(56, 67, 89)"
      ]
     },
     "execution_count": 46,
     "metadata": {},
     "output_type": "execute_result"
    }
   ],
   "source": [
    "a"
   ]
  },
  {
   "cell_type": "code",
   "execution_count": 47,
   "id": "9afb6cb4",
   "metadata": {},
   "outputs": [
    {
     "data": {
      "text/plain": [
       "tuple"
      ]
     },
     "execution_count": 47,
     "metadata": {},
     "output_type": "execute_result"
    }
   ],
   "source": [
    "type(a)"
   ]
  },
  {
   "cell_type": "code",
   "execution_count": 48,
   "id": "57c946e5",
   "metadata": {},
   "outputs": [
    {
     "data": {
      "text/plain": [
       "(56, 67, 89)"
      ]
     },
     "execution_count": 48,
     "metadata": {},
     "output_type": "execute_result"
    }
   ],
   "source": [
    "a"
   ]
  },
  {
   "cell_type": "code",
   "execution_count": 50,
   "id": "71848ce3",
   "metadata": {},
   "outputs": [
    {
     "ename": "TypeError",
     "evalue": "'tuple' object does not support item assignment",
     "output_type": "error",
     "traceback": [
      "\u001b[1;31m---------------------------------------------------------------------------\u001b[0m",
      "\u001b[1;31mTypeError\u001b[0m                                 Traceback (most recent call last)",
      "\u001b[1;32m~\\AppData\\Local\\Temp/ipykernel_11076/2626994717.py\u001b[0m in \u001b[0;36m<module>\u001b[1;34m\u001b[0m\n\u001b[1;32m----> 1\u001b[1;33m \u001b[0ma\u001b[0m\u001b[1;33m[\u001b[0m\u001b[1;36m0\u001b[0m\u001b[1;33m]\u001b[0m\u001b[1;33m=\u001b[0m\u001b[1;34m'python'\u001b[0m\u001b[1;33m\u001b[0m\u001b[1;33m\u001b[0m\u001b[0m\n\u001b[0m",
      "\u001b[1;31mTypeError\u001b[0m: 'tuple' object does not support item assignment"
     ]
    }
   ],
   "source": [
    "a[0]='python'"
   ]
  },
  {
   "cell_type": "code",
   "execution_count": 51,
   "id": "6533004c",
   "metadata": {},
   "outputs": [
    {
     "data": {
      "text/plain": [
       "(56, 67, 89)"
      ]
     },
     "execution_count": 51,
     "metadata": {},
     "output_type": "execute_result"
    }
   ],
   "source": [
    "# index/count\n",
    "a"
   ]
  },
  {
   "cell_type": "code",
   "execution_count": 54,
   "id": "e0abbcbd",
   "metadata": {},
   "outputs": [
    {
     "data": {
      "text/plain": [
       "1"
      ]
     },
     "execution_count": 54,
     "metadata": {},
     "output_type": "execute_result"
    }
   ],
   "source": [
    "a.index(67)"
   ]
  },
  {
   "cell_type": "code",
   "execution_count": 60,
   "id": "b6adc264",
   "metadata": {},
   "outputs": [],
   "source": [
    "x = (0,45,89,67,'True','python',1,False,True)"
   ]
  },
  {
   "cell_type": "code",
   "execution_count": 61,
   "id": "7df50f56",
   "metadata": {},
   "outputs": [
    {
     "data": {
      "text/plain": [
       "2"
      ]
     },
     "execution_count": 61,
     "metadata": {},
     "output_type": "execute_result"
    }
   ],
   "source": [
    "x.count(0)"
   ]
  },
  {
   "cell_type": "code",
   "execution_count": 62,
   "id": "4d638cef",
   "metadata": {},
   "outputs": [
    {
     "data": {
      "text/plain": [
       "2"
      ]
     },
     "execution_count": 62,
     "metadata": {},
     "output_type": "execute_result"
    }
   ],
   "source": [
    "x.count(1)"
   ]
  },
  {
   "cell_type": "code",
   "execution_count": 63,
   "id": "821d7582",
   "metadata": {},
   "outputs": [],
   "source": [
    "#empty tuple\n",
    "# single element tuple\n",
    "\n",
    "\n",
    "\n",
    "\n",
    "\n",
    "\n",
    "\n",
    "\n",
    "\n",
    "# wap to add a data in a tuple.\n",
    "#wap to delete the data in a tuple."
   ]
  },
  {
   "cell_type": "code",
   "execution_count": 64,
   "id": "223a03d0",
   "metadata": {},
   "outputs": [
    {
     "name": "stdout",
     "output_type": "stream",
     "text": [
      "()\n"
     ]
    }
   ],
   "source": [
    "x = ()\n",
    "print(x)"
   ]
  },
  {
   "cell_type": "code",
   "execution_count": 65,
   "id": "e1993ac8",
   "metadata": {},
   "outputs": [
    {
     "data": {
      "text/plain": [
       "tuple"
      ]
     },
     "execution_count": 65,
     "metadata": {},
     "output_type": "execute_result"
    }
   ],
   "source": [
    "type(x)"
   ]
  },
  {
   "cell_type": "code",
   "execution_count": 68,
   "id": "da54fade",
   "metadata": {},
   "outputs": [
    {
     "name": "stdout",
     "output_type": "stream",
     "text": [
      "(1,)\n"
     ]
    }
   ],
   "source": [
    "x = (1,)\n",
    "print(x)"
   ]
  },
  {
   "cell_type": "code",
   "execution_count": 69,
   "id": "ea236eae",
   "metadata": {},
   "outputs": [
    {
     "data": {
      "text/plain": [
       "tuple"
      ]
     },
     "execution_count": 69,
     "metadata": {},
     "output_type": "execute_result"
    }
   ],
   "source": [
    "type(x)"
   ]
  },
  {
   "cell_type": "code",
   "execution_count": 70,
   "id": "70242a77",
   "metadata": {},
   "outputs": [],
   "source": [
    "x = 23,45,67,90,34"
   ]
  },
  {
   "cell_type": "code",
   "execution_count": 71,
   "id": "7c7e7633",
   "metadata": {},
   "outputs": [
    {
     "data": {
      "text/plain": [
       "(23, 45, 67, 90, 34)"
      ]
     },
     "execution_count": 71,
     "metadata": {},
     "output_type": "execute_result"
    }
   ],
   "source": [
    "x"
   ]
  },
  {
   "cell_type": "code",
   "execution_count": 72,
   "id": "c827ce3e",
   "metadata": {},
   "outputs": [
    {
     "data": {
      "text/plain": [
       "tuple"
      ]
     },
     "execution_count": 72,
     "metadata": {},
     "output_type": "execute_result"
    }
   ],
   "source": [
    "type(x)"
   ]
  },
  {
   "cell_type": "code",
   "execution_count": null,
   "id": "3f16786a",
   "metadata": {},
   "outputs": [],
   "source": []
  }
 ],
 "metadata": {
  "kernelspec": {
   "display_name": "Python 3 (ipykernel)",
   "language": "python",
   "name": "python3"
  },
  "language_info": {
   "codemirror_mode": {
    "name": "ipython",
    "version": 3
   },
   "file_extension": ".py",
   "mimetype": "text/x-python",
   "name": "python",
   "nbconvert_exporter": "python",
   "pygments_lexer": "ipython3",
   "version": "3.9.7"
  }
 },
 "nbformat": 4,
 "nbformat_minor": 5
}
