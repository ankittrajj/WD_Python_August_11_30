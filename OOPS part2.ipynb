{
 "cells": [
  {
   "cell_type": "code",
   "execution_count": 2,
   "id": "d99975d2",
   "metadata": {},
   "outputs": [],
   "source": [
    "# wap to make a class of simplified airthmetic opeartion \n",
    "# and try to get the  output of that class through the object.\n",
    "\n",
    "# Wap to make a class of car and find its actual price,if the \n",
    "# car is of more than 10lakh then there is a tax of 14% on \n",
    "# the car and if the cost of car is less tha 10lakhs then\n",
    "# there is some discount of 7.8% on the car . Find the actual\n",
    "# price of the paid by the user."
   ]
  },
  {
   "cell_type": "code",
   "execution_count": 3,
   "id": "599d8945",
   "metadata": {},
   "outputs": [
    {
     "name": "stdout",
     "output_type": "stream",
     "text": [
      "Add-----> 6 Sub----> 2 Mul----> 8 Divide------> 2.0\n"
     ]
    }
   ],
   "source": [
    "class airth:\n",
    "    def function(self,a,b):\n",
    "        add = a+b\n",
    "        sub = a-b\n",
    "        mul = a*b\n",
    "        div = a/b\n",
    "        \n",
    "        print(\"Add----->\",add,\"Sub---->\",sub,\"Mul---->\",mul,\"Divide------>\",div)\n",
    "        \n",
    "a = airth()\n",
    "a.function(4,2)\n",
    "    "
   ]
  },
  {
   "cell_type": "code",
   "execution_count": 5,
   "id": "f4eb6237",
   "metadata": {},
   "outputs": [
    {
     "name": "stdout",
     "output_type": "stream",
     "text": [
      "Enter the number4\n",
      "Enter the number8\n",
      "Add-----> 12 Sub----> -4 Mul----> 32 Divide------> 0.5\n"
     ]
    }
   ],
   "source": [
    "class airth:\n",
    "    def function(self):\n",
    "        a = int(input(\"Enter the number\"))\n",
    "        b = int(input(\"Enter the number\"))\n",
    "        add = a+b\n",
    "        sub = a-b\n",
    "        mul = a*b\n",
    "        div = a/b\n",
    "        \n",
    "        print(\"Add----->\",add,\"Sub---->\",sub,\"Mul---->\",mul,\"Divide------>\",div)\n",
    "        \n",
    "a = airth()\n",
    "a.function()\n",
    "    "
   ]
  },
  {
   "cell_type": "code",
   "execution_count": 10,
   "id": "ae50e03f",
   "metadata": {},
   "outputs": [
    {
     "name": "stdout",
     "output_type": "stream",
     "text": [
      "461.0\n"
     ]
    }
   ],
   "source": [
    "# Wap to make a class of car and find its actual price,if the \n",
    "# car is of more than 10lakh then there is a tax of 14% on \n",
    "# the car and if the cost of car is less tha 10lakhs then\n",
    "# there is some discount of 7.8% on the car . Find the actual\n",
    "# price of the paid by the user.\n",
    "\n",
    "class car:\n",
    "    def info(self,price):\n",
    "\n",
    "        if price > 1000000:\n",
    "            tax = (price*14)/100\n",
    "            total_price = price+tax\n",
    "            print(total_price)\n",
    "        else:\n",
    "            dis = (price*7.8)/100\n",
    "            t_price = price - dis\n",
    "            print(t_price)\n",
    "            \n",
    "c = car()\n",
    "c.info(500)"
   ]
  },
  {
   "cell_type": "code",
   "execution_count": 11,
   "id": "2a76a15c",
   "metadata": {},
   "outputs": [],
   "source": [
    "a = [56,78,34,90,23]\n",
    "# find max with the help of function.\n",
    "\n",
    "def fun(a):\n",
    "        max = a[0]\n",
    "        for i in a:\n",
    "            if i>max:\n",
    "                max = i\n",
    "        print(\"Max number=\",max)"
   ]
  },
  {
   "cell_type": "code",
   "execution_count": 12,
   "id": "06f45478",
   "metadata": {},
   "outputs": [
    {
     "name": "stdout",
     "output_type": "stream",
     "text": [
      "Max number= 90\n"
     ]
    }
   ],
   "source": [
    "fun(a)"
   ]
  },
  {
   "cell_type": "code",
   "execution_count": 14,
   "id": "88af4427",
   "metadata": {},
   "outputs": [
    {
     "name": "stdout",
     "output_type": "stream",
     "text": [
      "100\n"
     ]
    }
   ],
   "source": [
    "#wap to find second highest number.\n",
    "# a = [56,78,34,90,23]\n",
    "class Maximum:\n",
    "    def max(self,a):\n",
    "        b=a[0]\n",
    "        c=a[1]\n",
    "        for i in a:\n",
    "            if b<i:\n",
    "                b=i\n",
    "            elif c<i:\n",
    "                c=i\n",
    "        if b<c:\n",
    "            print(b)\n",
    "        else:\n",
    "            print(c)\n",
    "a=[23,100,12,2,456]\n",
    "ob=Maximum()\n",
    "ob.max(a)\n"
   ]
  },
  {
   "cell_type": "code",
   "execution_count": 16,
   "id": "4ef2fcf4",
   "metadata": {},
   "outputs": [
    {
     "data": {
      "text/plain": [
       "[12, 23, 34, 45, 89]"
      ]
     },
     "execution_count": 16,
     "metadata": {},
     "output_type": "execute_result"
    }
   ],
   "source": [
    "x = [45,89,34,23,12]\n",
    "x.sort()\n",
    "x"
   ]
  },
  {
   "cell_type": "code",
   "execution_count": 17,
   "id": "5ac3e87f",
   "metadata": {},
   "outputs": [
    {
     "data": {
      "text/plain": [
       "45"
      ]
     },
     "execution_count": 17,
     "metadata": {},
     "output_type": "execute_result"
    }
   ],
   "source": [
    "x[-2]"
   ]
  },
  {
   "cell_type": "code",
   "execution_count": null,
   "id": "28508f9d",
   "metadata": {},
   "outputs": [],
   "source": []
  }
 ],
 "metadata": {
  "kernelspec": {
   "display_name": "Python 3 (ipykernel)",
   "language": "python",
   "name": "python3"
  },
  "language_info": {
   "codemirror_mode": {
    "name": "ipython",
    "version": 3
   },
   "file_extension": ".py",
   "mimetype": "text/x-python",
   "name": "python",
   "nbconvert_exporter": "python",
   "pygments_lexer": "ipython3",
   "version": "3.9.7"
  }
 },
 "nbformat": 4,
 "nbformat_minor": 5
}
