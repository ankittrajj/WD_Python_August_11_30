{
 "cells": [
  {
   "cell_type": "code",
   "execution_count": 1,
   "id": "da573218",
   "metadata": {},
   "outputs": [
    {
     "name": "stdout",
     "output_type": "stream",
     "text": [
      "a\n",
      "90\n",
      "2\n"
     ]
    }
   ],
   "source": [
    "class std:\n",
    "    def details(self,name,age,marks):\n",
    "        print(name)\n",
    "        print(age)\n",
    "        print(marks)\n",
    "    \n",
    "s = std()\n",
    "s.details(\"a\",90,2)"
   ]
  },
  {
   "cell_type": "code",
   "execution_count": 2,
   "id": "a01638fd",
   "metadata": {},
   "outputs": [
    {
     "data": {
      "text/plain": [
       "'a'"
      ]
     },
     "execution_count": 2,
     "metadata": {},
     "output_type": "execute_result"
    }
   ],
   "source": [
    "class std:\n",
    "    def details(self,name,age,marks):\n",
    "        return(name)\n",
    "        return(age)\n",
    "        return(marks)\n",
    "    \n",
    "s = std()\n",
    "s.details(\"a\",90,2)"
   ]
  },
  {
   "cell_type": "markdown",
   "id": "3d891394",
   "metadata": {},
   "source": [
    "# Constructor"
   ]
  },
  {
   "cell_type": "code",
   "execution_count": 3,
   "id": "82d426a8",
   "metadata": {},
   "outputs": [],
   "source": [
    "class std:\n",
    "    \n",
    "    def __init__(self,name,age):\n",
    "        \n",
    "        self.name = name\n",
    "        self.age = age\n",
    "        \n",
    "s = std(\"abcd\",98)\n"
   ]
  },
  {
   "cell_type": "code",
   "execution_count": 4,
   "id": "01f6ebf2",
   "metadata": {},
   "outputs": [
    {
     "data": {
      "text/plain": [
       "'abcd'"
      ]
     },
     "execution_count": 4,
     "metadata": {},
     "output_type": "execute_result"
    }
   ],
   "source": [
    "s.name"
   ]
  },
  {
   "cell_type": "code",
   "execution_count": 24,
   "id": "94e640eb",
   "metadata": {},
   "outputs": [
    {
     "data": {
      "text/plain": [
       "'Kartik'"
      ]
     },
     "execution_count": 24,
     "metadata": {},
     "output_type": "execute_result"
    }
   ],
   "source": [
    "class emp1:\n",
    "    def __init__(self,name,sal):\n",
    "        self.name = name\n",
    "        self.sal = sal\n",
    "        \n",
    "class emp2(emp1):\n",
    "    def __init__(self,name,sal,age):\n",
    "        emp1.__init__(self,name,sal)\n",
    "        self.age = age\n",
    "        \n",
    "        \n",
    "        \n",
    "        \n",
    "e = emp2(\"Kartik\",20,40)\n",
    "e.age\n",
    "e.name\n",
    "    "
   ]
  },
  {
   "cell_type": "code",
   "execution_count": 19,
   "id": "3254e066",
   "metadata": {},
   "outputs": [
    {
     "data": {
      "text/plain": [
       "300"
      ]
     },
     "execution_count": 19,
     "metadata": {},
     "output_type": "execute_result"
    }
   ],
   "source": [
    "e.name"
   ]
  },
  {
   "cell_type": "code",
   "execution_count": 16,
   "id": "61c7465a",
   "metadata": {},
   "outputs": [
    {
     "data": {
      "text/plain": [
       "300"
      ]
     },
     "execution_count": 16,
     "metadata": {},
     "output_type": "execute_result"
    }
   ],
   "source": [
    "e.age"
   ]
  },
  {
   "cell_type": "code",
   "execution_count": 20,
   "id": "6d2ee741",
   "metadata": {},
   "outputs": [
    {
     "data": {
      "text/plain": [
       "'Kartik'"
      ]
     },
     "execution_count": 20,
     "metadata": {},
     "output_type": "execute_result"
    }
   ],
   "source": [
    "e.sal"
   ]
  },
  {
   "cell_type": "code",
   "execution_count": 27,
   "id": "6e39d694",
   "metadata": {},
   "outputs": [
    {
     "data": {
      "text/plain": [
       "'Yogesh'"
      ]
     },
     "execution_count": 27,
     "metadata": {},
     "output_type": "execute_result"
    }
   ],
   "source": [
    "#wap to check the speed of a bike using oops fundaments where\n",
    "# the distance is covered by bike is almost 250 km \n",
    "# and time taken is 10 hours.\n",
    "\n",
    "\n",
    "#WAP to find the sal of a two emp ram and shyam where Ram\n",
    "# take 4 leaves in a month with a deduction of 5.6% of the \n",
    "# salary while shyam take no leave with the increment of 30%\n",
    "# in the salary. Find the salry with the \n",
    "# help of oops fundamentals\n",
    "\\\n",
    "class std:\n",
    "    def __init__(self,name,age):\n",
    "        self.name = \"Yogesh\"\n",
    "        self.age = 23\n",
    "        \n",
    "s = std(1,2)\n",
    "s.name"
   ]
  },
  {
   "cell_type": "code",
   "execution_count": 28,
   "id": "10219a28",
   "metadata": {},
   "outputs": [
    {
     "data": {
      "text/plain": [
       "23"
      ]
     },
     "execution_count": 28,
     "metadata": {},
     "output_type": "execute_result"
    }
   ],
   "source": [
    "s.age"
   ]
  },
  {
   "cell_type": "code",
   "execution_count": null,
   "id": "4a104801",
   "metadata": {},
   "outputs": [],
   "source": []
  },
  {
   "cell_type": "code",
   "execution_count": null,
   "id": "e90ebd3d",
   "metadata": {},
   "outputs": [],
   "source": []
  }
 ],
 "metadata": {
  "kernelspec": {
   "display_name": "Python 3 (ipykernel)",
   "language": "python",
   "name": "python3"
  },
  "language_info": {
   "codemirror_mode": {
    "name": "ipython",
    "version": 3
   },
   "file_extension": ".py",
   "mimetype": "text/x-python",
   "name": "python",
   "nbconvert_exporter": "python",
   "pygments_lexer": "ipython3",
   "version": "3.9.7"
  }
 },
 "nbformat": 4,
 "nbformat_minor": 5
}
