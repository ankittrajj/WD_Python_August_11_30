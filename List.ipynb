{
 "cells": [
  {
   "cell_type": "code",
   "execution_count": 4,
   "id": "9a47c47d",
   "metadata": {},
   "outputs": [
    {
     "name": "stdout",
     "output_type": "stream",
     "text": [
      "enter total delivered classes 100\n",
      "enter attened 24\n",
      "Percentage  24.0 %\n",
      "medical issue Y or N N\n",
      "pay 10000rs fine then allowed\n"
     ]
    }
   ],
   "source": [
    "a= int(input (\"enter total delivered classes \"))\n",
    "b= int(input (\"enter attened \"))\n",
    "c=(b/a)*100\n",
    "print(\"Percentage \" , float(c) ,\"%\")\n",
    "if c>=75:\n",
    "     print(\"you are allowed\")\n",
    "else:\n",
    "    Med = input(\"medical issue Y or N \")\n",
    "    if Med=='Y':\n",
    "        print(\"medical issue, you are allowed\")\n",
    "    else:\n",
    "        l_att = (5/100) *a\n",
    "        Final= 75 - l_att\n",
    "        \n",
    "        if c>Final:\n",
    "            print(\"allowed but pay 2000rs fine\")\n",
    "        else:\n",
    "            print(\"pay 10000rs fine then allowed\")\n"
   ]
  },
  {
   "cell_type": "markdown",
   "id": "65bc613e",
   "metadata": {},
   "source": [
    "# Data Collection\n",
    "####  List,Tuple,Dict,Set"
   ]
  },
  {
   "cell_type": "code",
   "execution_count": 5,
   "id": "db596b96",
   "metadata": {},
   "outputs": [],
   "source": [
    "a = 90"
   ]
  },
  {
   "cell_type": "code",
   "execution_count": 6,
   "id": "b1bdf363",
   "metadata": {},
   "outputs": [],
   "source": [
    "a = [34,67,23,90]"
   ]
  },
  {
   "cell_type": "code",
   "execution_count": 7,
   "id": "b77231ac",
   "metadata": {},
   "outputs": [
    {
     "name": "stdout",
     "output_type": "stream",
     "text": [
      "[34, 67, 23, 90]\n"
     ]
    }
   ],
   "source": [
    "print(a)"
   ]
  },
  {
   "cell_type": "code",
   "execution_count": 8,
   "id": "57bf17d0",
   "metadata": {},
   "outputs": [
    {
     "data": {
      "text/plain": [
       "list"
      ]
     },
     "execution_count": 8,
     "metadata": {},
     "output_type": "execute_result"
    }
   ],
   "source": [
    "type(a)"
   ]
  },
  {
   "cell_type": "code",
   "execution_count": 9,
   "id": "29e3e626",
   "metadata": {},
   "outputs": [],
   "source": [
    "a = [34,67,'56','Hello',True,34.89,89.3]"
   ]
  },
  {
   "cell_type": "code",
   "execution_count": 10,
   "id": "22fd3337",
   "metadata": {},
   "outputs": [
    {
     "name": "stdout",
     "output_type": "stream",
     "text": [
      "[34, 67, '56', 'Hello', True, 34.89, 89.3]\n"
     ]
    }
   ],
   "source": [
    "print(a)"
   ]
  },
  {
   "cell_type": "code",
   "execution_count": 11,
   "id": "2917ac62",
   "metadata": {},
   "outputs": [
    {
     "data": {
      "text/plain": [
       "list"
      ]
     },
     "execution_count": 11,
     "metadata": {},
     "output_type": "execute_result"
    }
   ],
   "source": [
    "type(a)"
   ]
  },
  {
   "cell_type": "code",
   "execution_count": 12,
   "id": "4138752c",
   "metadata": {},
   "outputs": [],
   "source": [
    "#wap to make a list of string.\n",
    "\n",
    "x = ['hello','bhai']"
   ]
  },
  {
   "cell_type": "code",
   "execution_count": 13,
   "id": "5a5e9620",
   "metadata": {},
   "outputs": [
    {
     "name": "stdout",
     "output_type": "stream",
     "text": [
      "['hello', 'bhai']\n"
     ]
    }
   ],
   "source": [
    "print(x)"
   ]
  },
  {
   "cell_type": "code",
   "execution_count": 14,
   "id": "7cc7564c",
   "metadata": {},
   "outputs": [
    {
     "data": {
      "text/plain": [
       "list"
      ]
     },
     "execution_count": 14,
     "metadata": {},
     "output_type": "execute_result"
    }
   ],
   "source": [
    "type(x)"
   ]
  },
  {
   "cell_type": "code",
   "execution_count": 23,
   "id": "b4f254d2",
   "metadata": {},
   "outputs": [
    {
     "name": "stdout",
     "output_type": "stream",
     "text": [
      "10\n"
     ]
    }
   ],
   "source": [
    "# l = [1,2,3,4]\n",
    "# Wap to add all the numbers present in a list.\n",
    "\n",
    "a = [1,2,3,4]\n",
    "b = 0\n",
    "for i in a:\n",
    "    b = i+b\n",
    "print(b)\n",
    "\n",
    "    "
   ]
  },
  {
   "cell_type": "code",
   "execution_count": 20,
   "id": "11705856",
   "metadata": {},
   "outputs": [
    {
     "data": {
      "text/plain": [
       "int"
      ]
     },
     "execution_count": 20,
     "metadata": {},
     "output_type": "execute_result"
    }
   ],
   "source": [
    "type(i)"
   ]
  },
  {
   "cell_type": "code",
   "execution_count": 21,
   "id": "e49146c1",
   "metadata": {},
   "outputs": [
    {
     "data": {
      "text/plain": [
       "list"
      ]
     },
     "execution_count": 21,
     "metadata": {},
     "output_type": "execute_result"
    }
   ],
   "source": [
    "type(a)"
   ]
  },
  {
   "cell_type": "code",
   "execution_count": 24,
   "id": "4d159dc0",
   "metadata": {},
   "outputs": [
    {
     "name": "stdout",
     "output_type": "stream",
     "text": [
      "24\n"
     ]
    }
   ],
   "source": [
    "a = [1,2,3,4]\n",
    "b = 1\n",
    "for i in a:\n",
    "    b = i*b\n",
    "print(b)\n"
   ]
  },
  {
   "cell_type": "markdown",
   "id": "c23678fb",
   "metadata": {},
   "source": [
    "# Sciling with Indexing"
   ]
  },
  {
   "cell_type": "code",
   "execution_count": 25,
   "id": "cb178d17",
   "metadata": {},
   "outputs": [],
   "source": [
    "x = [34,89,'python',\"bahuballi\",67.8,'True',False,'Hello bhai']"
   ]
  },
  {
   "cell_type": "code",
   "execution_count": 26,
   "id": "9667a9b2",
   "metadata": {},
   "outputs": [
    {
     "name": "stdout",
     "output_type": "stream",
     "text": [
      "[34, 89, 'python', 'bahuballi', 67.8, 'True', False, 'Hello bhai']\n"
     ]
    }
   ],
   "source": [
    "print(x)"
   ]
  },
  {
   "cell_type": "code",
   "execution_count": 27,
   "id": "3688fa5f",
   "metadata": {},
   "outputs": [
    {
     "data": {
      "text/plain": [
       "list"
      ]
     },
     "execution_count": 27,
     "metadata": {},
     "output_type": "execute_result"
    }
   ],
   "source": [
    "type(x)"
   ]
  },
  {
   "cell_type": "code",
   "execution_count": 28,
   "id": "183178ea",
   "metadata": {},
   "outputs": [
    {
     "data": {
      "text/plain": [
       "34"
      ]
     },
     "execution_count": 28,
     "metadata": {},
     "output_type": "execute_result"
    }
   ],
   "source": [
    "x[0]"
   ]
  },
  {
   "cell_type": "code",
   "execution_count": 29,
   "id": "26e99e82",
   "metadata": {},
   "outputs": [
    {
     "data": {
      "text/plain": [
       "[34, 89, 'python', 'bahuballi', 67.8, 'True', False, 'Hello bhai']"
      ]
     },
     "execution_count": 29,
     "metadata": {},
     "output_type": "execute_result"
    }
   ],
   "source": [
    "x"
   ]
  },
  {
   "cell_type": "code",
   "execution_count": 30,
   "id": "e626aca4",
   "metadata": {},
   "outputs": [
    {
     "data": {
      "text/plain": [
       "'Hello bhai'"
      ]
     },
     "execution_count": 30,
     "metadata": {},
     "output_type": "execute_result"
    }
   ],
   "source": [
    "x[7]"
   ]
  },
  {
   "cell_type": "code",
   "execution_count": 31,
   "id": "eb69294c",
   "metadata": {},
   "outputs": [
    {
     "data": {
      "text/plain": [
       "'Hello bhai'"
      ]
     },
     "execution_count": 31,
     "metadata": {},
     "output_type": "execute_result"
    }
   ],
   "source": [
    "x[-1]"
   ]
  },
  {
   "cell_type": "code",
   "execution_count": 32,
   "id": "ba39d6b5",
   "metadata": {},
   "outputs": [
    {
     "data": {
      "text/plain": [
       "[34, 89, 'python', 'bahuballi', 67.8, 'True', False, 'Hello bhai']"
      ]
     },
     "execution_count": 32,
     "metadata": {},
     "output_type": "execute_result"
    }
   ],
   "source": [
    "x"
   ]
  },
  {
   "cell_type": "code",
   "execution_count": 36,
   "id": "acf77504",
   "metadata": {},
   "outputs": [
    {
     "data": {
      "text/plain": [
       "['python', 'bahuballi', 67.8, 'True', False]"
      ]
     },
     "execution_count": 36,
     "metadata": {},
     "output_type": "execute_result"
    }
   ],
   "source": [
    "x[2:7]"
   ]
  },
  {
   "cell_type": "code",
   "execution_count": 37,
   "id": "ff6ef8b2",
   "metadata": {},
   "outputs": [
    {
     "data": {
      "text/plain": [
       "[34, 89, 'python', 'bahuballi', 67.8, 'True', False, 'Hello bhai']"
      ]
     },
     "execution_count": 37,
     "metadata": {},
     "output_type": "execute_result"
    }
   ],
   "source": [
    "x"
   ]
  },
  {
   "cell_type": "code",
   "execution_count": 40,
   "id": "a01da880",
   "metadata": {},
   "outputs": [
    {
     "data": {
      "text/plain": [
       "['bahuballi', 67.8, 'True', False]"
      ]
     },
     "execution_count": 40,
     "metadata": {},
     "output_type": "execute_result"
    }
   ],
   "source": [
    "# 'bahuballi', 67.8, 'True', False,\n",
    "# Wap to find the above data with the help of -ve indexing.\n",
    "\n",
    "x[-5:-1]"
   ]
  },
  {
   "cell_type": "code",
   "execution_count": 41,
   "id": "f9f2d1a3",
   "metadata": {},
   "outputs": [
    {
     "data": {
      "text/plain": [
       "['python', 'bahuballi', 67.8, 'True']"
      ]
     },
     "execution_count": 41,
     "metadata": {},
     "output_type": "execute_result"
    }
   ],
   "source": [
    "x[2:-2]"
   ]
  },
  {
   "cell_type": "code",
   "execution_count": 42,
   "id": "692cea63",
   "metadata": {},
   "outputs": [
    {
     "data": {
      "text/plain": [
       "[34, 89, 'python', 'bahuballi', 67.8, 'True', False, 'Hello bhai']"
      ]
     },
     "execution_count": 42,
     "metadata": {},
     "output_type": "execute_result"
    }
   ],
   "source": [
    "x"
   ]
  },
  {
   "cell_type": "code",
   "execution_count": 43,
   "id": "d4791499",
   "metadata": {},
   "outputs": [
    {
     "data": {
      "text/plain": [
       "89"
      ]
     },
     "execution_count": 43,
     "metadata": {},
     "output_type": "execute_result"
    }
   ],
   "source": [
    "x[1]"
   ]
  },
  {
   "cell_type": "code",
   "execution_count": 44,
   "id": "20e1505c",
   "metadata": {},
   "outputs": [
    {
     "data": {
      "text/plain": [
       "[34, 89, 'python', 'bahuballi', 67.8, 'True', False, 'Hello bhai']"
      ]
     },
     "execution_count": 44,
     "metadata": {},
     "output_type": "execute_result"
    }
   ],
   "source": [
    "x"
   ]
  },
  {
   "cell_type": "code",
   "execution_count": 45,
   "id": "9c62872a",
   "metadata": {},
   "outputs": [
    {
     "data": {
      "text/plain": [
       "[34, 89, 'python', 'bahuballi', 67.8, 'True', False, 'Hello bhai']"
      ]
     },
     "execution_count": 45,
     "metadata": {},
     "output_type": "execute_result"
    }
   ],
   "source": [
    "x[0:8]"
   ]
  },
  {
   "cell_type": "code",
   "execution_count": 46,
   "id": "78a7e12e",
   "metadata": {},
   "outputs": [
    {
     "data": {
      "text/plain": [
       "[34, 89, 'python', 'bahuballi', 67.8, 'True', False, 'Hello bhai']"
      ]
     },
     "execution_count": 46,
     "metadata": {},
     "output_type": "execute_result"
    }
   ],
   "source": [
    "x[0:]"
   ]
  },
  {
   "cell_type": "code",
   "execution_count": 47,
   "id": "e6176f43",
   "metadata": {},
   "outputs": [
    {
     "data": {
      "text/plain": [
       "[34, 89, 'python', 'bahuballi', 67.8, 'True', False, 'Hello bhai']"
      ]
     },
     "execution_count": 47,
     "metadata": {},
     "output_type": "execute_result"
    }
   ],
   "source": [
    "x[:8]"
   ]
  },
  {
   "cell_type": "code",
   "execution_count": 48,
   "id": "2d6b07f9",
   "metadata": {},
   "outputs": [
    {
     "data": {
      "text/plain": [
       "[34, 89, 'python', 'bahuballi', 67.8, 'True', False, 'Hello bhai']"
      ]
     },
     "execution_count": 48,
     "metadata": {},
     "output_type": "execute_result"
    }
   ],
   "source": [
    "x[:]"
   ]
  },
  {
   "cell_type": "code",
   "execution_count": 51,
   "id": "fc7410ec",
   "metadata": {},
   "outputs": [
    {
     "data": {
      "text/plain": [
       "[34, 89, 'python', 'bahuballi', 67.8, 'True', False, 'Hello bhai']"
      ]
     },
     "execution_count": 51,
     "metadata": {},
     "output_type": "execute_result"
    }
   ],
   "source": [
    "x[::1]"
   ]
  },
  {
   "cell_type": "markdown",
   "id": "2c108fb8",
   "metadata": {},
   "source": [
    "# Mutable or Immuatble"
   ]
  },
  {
   "cell_type": "code",
   "execution_count": 52,
   "id": "3df82994",
   "metadata": {},
   "outputs": [
    {
     "data": {
      "text/plain": [
       "[34, 89, 'python', 'bahuballi', 67.8, 'True', False, 'Hello bhai']"
      ]
     },
     "execution_count": 52,
     "metadata": {},
     "output_type": "execute_result"
    }
   ],
   "source": [
    "x"
   ]
  },
  {
   "cell_type": "code",
   "execution_count": 54,
   "id": "c47f2ecf",
   "metadata": {},
   "outputs": [],
   "source": [
    "x[1] = 'Eighty nine'"
   ]
  },
  {
   "cell_type": "code",
   "execution_count": 55,
   "id": "b9bf2840",
   "metadata": {},
   "outputs": [
    {
     "data": {
      "text/plain": [
       "[34, 'Eighty nine', 'python', 'bahuballi', 67.8, 'True', False, 'Hello bhai']"
      ]
     },
     "execution_count": 55,
     "metadata": {},
     "output_type": "execute_result"
    }
   ],
   "source": [
    "x"
   ]
  },
  {
   "cell_type": "code",
   "execution_count": null,
   "id": "d01ba841",
   "metadata": {},
   "outputs": [],
   "source": [
    "# 1. Mutable\n",
    "#2. Index\n",
    "# 3. Ordered way\n",
    "# 4. Slicing\n"
   ]
  }
 ],
 "metadata": {
  "kernelspec": {
   "display_name": "Python 3 (ipykernel)",
   "language": "python",
   "name": "python3"
  },
  "language_info": {
   "codemirror_mode": {
    "name": "ipython",
    "version": 3
   },
   "file_extension": ".py",
   "mimetype": "text/x-python",
   "name": "python",
   "nbconvert_exporter": "python",
   "pygments_lexer": "ipython3",
   "version": "3.9.7"
  }
 },
 "nbformat": 4,
 "nbformat_minor": 5
}
