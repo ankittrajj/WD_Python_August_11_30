{
 "cells": [
  {
   "cell_type": "code",
   "execution_count": 4,
   "id": "4b04aee3",
   "metadata": {},
   "outputs": [
    {
     "name": "stdout",
     "output_type": "stream",
     "text": [
      "Enter your exp.6\n",
      "Enter your salary89000\n",
      "93450.0\n",
      "Bonus amount =  4450.0\n"
     ]
    }
   ],
   "source": [
    "# A company decided to give bonus of 5% to employee \n",
    "# if his/her year of service is more than 5 years.\n",
    "# Ask user for their salary and year of service \n",
    "# and print the net bonus amount.\n",
    "# Also try to print the net sal of emp after bonus.\n",
    "\n",
    "\n",
    "exp = int(input(\"Enter your exp.\"))\n",
    "sal = int(input(\"Enter your salary\"))\n",
    "\n",
    "if exp>5:\n",
    "    bonus = sal * 5 /100\n",
    "    totalSalary = sal+bonus\n",
    "    print(totalSalary)\n",
    "    print(\"Bonus amount = \",bonus)\n",
    "    \n",
    "else:\n",
    "    print(\"NO bonus\")\n",
    "\n"
   ]
  },
  {
   "cell_type": "code",
   "execution_count": 6,
   "id": "f5be627c",
   "metadata": {},
   "outputs": [
    {
     "name": "stdout",
     "output_type": "stream",
     "text": [
      "Square\n"
     ]
    }
   ],
   "source": [
    "# total_bonus\n",
    "# totalBonus\n",
    "# totalbonus\n",
    "\n",
    "\n",
    "# #food_lover\n",
    "\n",
    "\n",
    "# Take values of length and breadth of a rectangle \n",
    "# from user and check if it is square or not.\n",
    "l = 2\n",
    "b = 2\n",
    "a = 2\n",
    "area_of_square = a**2\n",
    "area_of_rectangle = l*b\n",
    "\n",
    "if area_of_rectangle == area_of_square:\n",
    "    print(\"Square\")\n",
    "else:\n",
    "    print(\"muje ni pata kya shape hai!!!\")\n"
   ]
  },
  {
   "cell_type": "code",
   "execution_count": 15,
   "id": "48af5316",
   "metadata": {},
   "outputs": [
    {
     "name": "stdout",
     "output_type": "stream",
     "text": [
      "Enter the number45\n",
      "Enter the number89\n",
      "Enter the number23\n",
      "89\n"
     ]
    }
   ],
   "source": [
    "a = int(input(\"Enter the number\"))\n",
    "b = int(input(\"Enter the number\"))\n",
    "c = int(input(\"Enter the number\"))\n",
    "\n",
    "\n",
    "if a>b and a>c:\n",
    "    print(a)\n",
    "elif b>a and b>c:\n",
    "    print(b)\n",
    "elif c>a and c>b:\n",
    "    print(c)\n",
    "else:\n",
    "    print(\"invalid input\")"
   ]
  },
  {
   "cell_type": "code",
   "execution_count": 16,
   "id": "5951e393",
   "metadata": {},
   "outputs": [
    {
     "name": "stdout",
     "output_type": "stream",
     "text": [
      "Enter the number67\n",
      "Enter the number89\n",
      "Enter the number90\n",
      "67\n"
     ]
    }
   ],
   "source": [
    "a = int(input(\"Enter the number\"))\n",
    "b = int(input(\"Enter the number\"))\n",
    "c = int(input(\"Enter the number\"))\n",
    "\n",
    "\n",
    "if a<b and a<c:\n",
    "    print(a)\n",
    "elif b<a and b<c:\n",
    "    print(b)\n",
    "elif c<a and c<b:\n",
    "    print(c)\n",
    "else:\n",
    "    print(\"invalid input\")"
   ]
  },
  {
   "cell_type": "code",
   "execution_count": null,
   "id": "e7d529b5",
   "metadata": {},
   "outputs": [],
   "source": []
  }
 ],
 "metadata": {
  "kernelspec": {
   "display_name": "Python 3 (ipykernel)",
   "language": "python",
   "name": "python3"
  },
  "language_info": {
   "codemirror_mode": {
    "name": "ipython",
    "version": 3
   },
   "file_extension": ".py",
   "mimetype": "text/x-python",
   "name": "python",
   "nbconvert_exporter": "python",
   "pygments_lexer": "ipython3",
   "version": "3.9.7"
  }
 },
 "nbformat": 4,
 "nbformat_minor": 5
}
