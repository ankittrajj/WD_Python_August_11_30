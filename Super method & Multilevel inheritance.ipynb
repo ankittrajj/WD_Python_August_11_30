{
 "cells": [
  {
   "cell_type": "code",
   "execution_count": 9,
   "id": "e156ed12",
   "metadata": {},
   "outputs": [
    {
     "data": {
      "text/plain": [
       "56.0"
      ]
     },
     "execution_count": 9,
     "metadata": {},
     "output_type": "execute_result"
    }
   ],
   "source": [
    "#wap to perform inheritance and find the avg marks of std1\n",
    "# and std 2.\n",
    "\n",
    "class std1:\n",
    "    def __init__(self,eng,hindi):\n",
    "        self.eng = eng\n",
    "        self.hindi = hindi\n",
    "    \n",
    "    \n",
    "class std2(std1):\n",
    "    def __init__(self,eng,hindi):\n",
    "        std1.__init__(self,eng,hindi)\n",
    "        \n",
    "    def avg(self):\n",
    "        a = (self.eng+self.hindi)/2\n",
    "        return a\n",
    "        \n",
    "\n",
    "s = std2(23,89)\n",
    "s.avg()\n",
    "    "
   ]
  },
  {
   "cell_type": "code",
   "execution_count": 5,
   "id": "2facc69b",
   "metadata": {},
   "outputs": [
    {
     "name": "stdout",
     "output_type": "stream",
     "text": [
      "338.0\n"
     ]
    }
   ],
   "source": [
    "class Student:\n",
    "    def __init__(self, marks1, marks2):\n",
    "        self.marks1 = marks1\n",
    "        self.marks2 = marks2\n",
    "               \n",
    "class average(Student):\n",
    "    def __init__(self, mark1, mark2):\n",
    "        Student.__init__(self, mark1,mark2)\n",
    "    def avg(self):\n",
    "        average=(self.marks1+self.marks2)/2\n",
    "        print(average)\n",
    "           \n",
    "my= average(396,280)\n",
    "my.avg()"
   ]
  },
  {
   "cell_type": "code",
   "execution_count": 10,
   "id": "67ce1c6c",
   "metadata": {},
   "outputs": [
    {
     "data": {
      "text/plain": [
       "50.5"
      ]
     },
     "execution_count": 10,
     "metadata": {},
     "output_type": "execute_result"
    }
   ],
   "source": [
    "class std1:\n",
    "    def __init__(self,eng,hindi):\n",
    "        self.eng = eng\n",
    "        self.hindi = hindi\n",
    "    \n",
    "    \n",
    "class std2(std1):\n",
    "    def __init__(self,eng,hindi):\n",
    "        super().__init__(eng,hindi)\n",
    "        \n",
    "    def avg(self):\n",
    "        a = (self.eng+self.hindi)/2\n",
    "        return a\n",
    "        \n",
    "\n",
    "s = std2(34,67)\n",
    "s.avg()"
   ]
  },
  {
   "cell_type": "markdown",
   "id": "3655030b",
   "metadata": {},
   "source": [
    "# Multi-level Inheritance"
   ]
  },
  {
   "cell_type": "code",
   "execution_count": 11,
   "id": "fcda60c4",
   "metadata": {},
   "outputs": [
    {
     "data": {
      "text/plain": [
       "'asd'"
      ]
     },
     "execution_count": 11,
     "metadata": {},
     "output_type": "execute_result"
    }
   ],
   "source": [
    "# gpc - pc\n",
    "class gpc:\n",
    "    def __init__ (self,name):\n",
    "        self.name = name\n",
    "    \n",
    "    \n",
    "class pc(gpc):\n",
    "    def __init__(self,name,age):\n",
    "        super().__init__(name)\n",
    "        self.age = age\n",
    "    \n",
    "    \n",
    "class cc:\n",
    "    def __init__(self,sal):\n",
    "        self.sal = sal\n",
    "        \n",
    "        \n",
    "p = pc(\"asd\",98)\n",
    "p.name"
   ]
  },
  {
   "cell_type": "code",
   "execution_count": 12,
   "id": "b8a36dfa",
   "metadata": {},
   "outputs": [
    {
     "data": {
      "text/plain": [
       "98"
      ]
     },
     "execution_count": 12,
     "metadata": {},
     "output_type": "execute_result"
    }
   ],
   "source": [
    "p.age"
   ]
  },
  {
   "cell_type": "code",
   "execution_count": 13,
   "id": "a8202685",
   "metadata": {},
   "outputs": [
    {
     "ename": "AttributeError",
     "evalue": "'pc' object has no attribute 'sal'",
     "output_type": "error",
     "traceback": [
      "\u001b[1;31m---------------------------------------------------------------------------\u001b[0m",
      "\u001b[1;31mAttributeError\u001b[0m                            Traceback (most recent call last)",
      "\u001b[1;32m~\\AppData\\Local\\Temp/ipykernel_11032/3698978576.py\u001b[0m in \u001b[0;36m<module>\u001b[1;34m\u001b[0m\n\u001b[1;32m----> 1\u001b[1;33m \u001b[0mp\u001b[0m\u001b[1;33m.\u001b[0m\u001b[0msal\u001b[0m\u001b[1;33m\u001b[0m\u001b[1;33m\u001b[0m\u001b[0m\n\u001b[0m",
      "\u001b[1;31mAttributeError\u001b[0m: 'pc' object has no attribute 'sal'"
     ]
    }
   ],
   "source": [
    "p.sal"
   ]
  },
  {
   "cell_type": "code",
   "execution_count": 15,
   "id": "49d4ab38",
   "metadata": {},
   "outputs": [
    {
     "data": {
      "text/plain": [
       "98"
      ]
     },
     "execution_count": 15,
     "metadata": {},
     "output_type": "execute_result"
    }
   ],
   "source": [
    "# pc-cc\n",
    "class gpc:\n",
    "    def __init__ (self,name):\n",
    "        self.name = name\n",
    "    \n",
    "    \n",
    "class pc:\n",
    "    def __init__(self,age):\n",
    "        self.age = age\n",
    "    \n",
    "    \n",
    "class cc(pc):\n",
    "    def __init__(self,age,sal):\n",
    "        super().__init__(age)\n",
    "        self.sal = sal\n",
    "        \n",
    "        \n",
    "p = cc(98,0)\n",
    "p.age"
   ]
  },
  {
   "cell_type": "code",
   "execution_count": 16,
   "id": "7a4cd1cd",
   "metadata": {},
   "outputs": [
    {
     "data": {
      "text/plain": [
       "0"
      ]
     },
     "execution_count": 16,
     "metadata": {},
     "output_type": "execute_result"
    }
   ],
   "source": [
    "p.sal"
   ]
  },
  {
   "cell_type": "code",
   "execution_count": 17,
   "id": "52953ea4",
   "metadata": {},
   "outputs": [
    {
     "data": {
      "text/plain": [
       "'asd'"
      ]
     },
     "execution_count": 17,
     "metadata": {},
     "output_type": "execute_result"
    }
   ],
   "source": [
    "# gpc - cc\n",
    "class gpc:\n",
    "    def __init__ (self,name):\n",
    "        self.name = name\n",
    "    \n",
    "    \n",
    "class pc(gpc):\n",
    "    def __init__(self,age):\n",
    "        self.age = age\n",
    "    \n",
    "    \n",
    "class cc(gpc):\n",
    "    def __init__(self,name,sal):\n",
    "        super().__init__(name)\n",
    "        self.sal = sal\n",
    "        \n",
    "        \n",
    "p = cc(\"asd\",98)\n",
    "p.name"
   ]
  },
  {
   "cell_type": "code",
   "execution_count": 18,
   "id": "a802628d",
   "metadata": {},
   "outputs": [
    {
     "data": {
      "text/plain": [
       "98"
      ]
     },
     "execution_count": 18,
     "metadata": {},
     "output_type": "execute_result"
    }
   ],
   "source": [
    "p.sal"
   ]
  },
  {
   "cell_type": "code",
   "execution_count": 19,
   "id": "f37b44ea",
   "metadata": {},
   "outputs": [
    {
     "data": {
      "text/plain": [
       "'asd'"
      ]
     },
     "execution_count": 19,
     "metadata": {},
     "output_type": "execute_result"
    }
   ],
   "source": [
    "# gpc - pc -- cc\n",
    "class gpc:\n",
    "    def __init__ (self,name):\n",
    "        self.name = name\n",
    "    \n",
    "    \n",
    "class pc(gpc):\n",
    "    def __init__(self,name,age):\n",
    "        super().__init__(name)\n",
    "        self.age = age\n",
    "    \n",
    "    \n",
    "class cc(pc):\n",
    "    def __init__(self,name,age,sal):\n",
    "        super().__init__(name,age)\n",
    "        self.sal = sal\n",
    "        \n",
    "        \n",
    "p = cc(\"asd\",98,-45)\n",
    "p.name"
   ]
  },
  {
   "cell_type": "code",
   "execution_count": 20,
   "id": "6079de6b",
   "metadata": {},
   "outputs": [
    {
     "data": {
      "text/plain": [
       "98"
      ]
     },
     "execution_count": 20,
     "metadata": {},
     "output_type": "execute_result"
    }
   ],
   "source": [
    "p.age"
   ]
  },
  {
   "cell_type": "code",
   "execution_count": 21,
   "id": "3e216ba6",
   "metadata": {},
   "outputs": [
    {
     "data": {
      "text/plain": [
       "-45"
      ]
     },
     "execution_count": 21,
     "metadata": {},
     "output_type": "execute_result"
    }
   ],
   "source": [
    "p.sal"
   ]
  },
  {
   "cell_type": "code",
   "execution_count": 22,
   "id": "082517de",
   "metadata": {},
   "outputs": [],
   "source": [
    "#wap to perfom multilevel inheritance and try to get the \n",
    "# attributes of each class.\n",
    "\n",
    "# Wap to make a 3 class in which one of the class\n",
    "# is totally empty and also try to inherit the attributes\n",
    "# of each class."
   ]
  },
  {
   "cell_type": "code",
   "execution_count": 23,
   "id": "7b2188cf",
   "metadata": {},
   "outputs": [],
   "source": [
    "# avg 3-->\n",
    "\n",
    "# gpc - pc -- cc\n",
    "class gpc:\n",
    "    def __init__ (self,sub1):\n",
    "        self.sub1 = sub1\n",
    "    \n",
    "    \n",
    "class pc(gpc):\n",
    "    def __init__(self,sub1,sub2):\n",
    "        super().__init__(sub1)\n",
    "        self.sub2 = sub2\n",
    "    \n",
    "    \n",
    "class cc(pc):\n",
    "    def __init__(self,sub1,sub2,sub3):\n",
    "        super().__init__(sub1,sub2)\n",
    "        self.sub3 = sub3\n",
    "    \n",
    "    def avg(self):\n",
    "        a = (self.sub1+self.sub2+self.sub3)/3\n",
    "        return a\n",
    "    \n",
    "c = cc(1,2,3)"
   ]
  },
  {
   "cell_type": "code",
   "execution_count": 24,
   "id": "8f5aff21",
   "metadata": {},
   "outputs": [
    {
     "data": {
      "text/plain": [
       "2.0"
      ]
     },
     "execution_count": 24,
     "metadata": {},
     "output_type": "execute_result"
    }
   ],
   "source": [
    "c.avg()"
   ]
  },
  {
   "cell_type": "code",
   "execution_count": 28,
   "id": "57a009cb",
   "metadata": {},
   "outputs": [
    {
     "ename": "IndentationError",
     "evalue": "unindent does not match any outer indentation level (<tokenize>, line 19)",
     "output_type": "error",
     "traceback": [
      "\u001b[1;36m  File \u001b[1;32m\"<tokenize>\"\u001b[1;36m, line \u001b[1;32m19\u001b[0m\n\u001b[1;33m    def pass(self):\u001b[0m\n\u001b[1;37m    ^\u001b[0m\n\u001b[1;31mIndentationError\u001b[0m\u001b[1;31m:\u001b[0m unindent does not match any outer indentation level\n"
     ]
    }
   ],
   "source": [
    "# Sir sub1,sub2,sub3 first class me daal do,,,\n",
    "# second class me average tino ka, and \n",
    "# third class me marks<200 fail.. ek bar ye bta dijiye\n",
    "\n",
    "class Student:\n",
    "    def __init__(self, marks1, marks2):\n",
    "        self.marks1 = marks1\n",
    "        self.marks2 = marks2\n",
    "          \n",
    "class Average(Student):\n",
    "    def __init__(self, marks1,marks2):\n",
    "         super().__init__(marks1,marks2)\n",
    "    def average(self):\n",
    "         avg=(self.marks1+self.marks2)/2\n",
    "            print(avg)\n",
    "class Fail(Average):\n",
    "     def __init__(self,marks1,marks2):\n",
    "            super().__init__(marks1,marks2)\n",
    "    def pass(self):\n",
    "        if self.marks1>300:\n",
    "            print(pass)         \n",
    "my= Fail(396,280)\n",
    "my.average()\n",
    "my.pass()"
   ]
  },
  {
   "cell_type": "code",
   "execution_count": 30,
   "id": "d742ca93",
   "metadata": {},
   "outputs": [
    {
     "name": "stdout",
     "output_type": "stream",
     "text": [
      "<__main__.a object at 0x00000228C9D90CD0>\n"
     ]
    }
   ],
   "source": [
    "class a:\n",
    "    pass\n",
    "\n",
    "x = a()\n",
    "print(x)"
   ]
  },
  {
   "cell_type": "markdown",
   "id": "0d757334",
   "metadata": {},
   "source": [
    "# Empty Class"
   ]
  },
  {
   "cell_type": "code",
   "execution_count": 31,
   "id": "40538578",
   "metadata": {},
   "outputs": [],
   "source": [
    "class emp:\n",
    "    None\n",
    "    \n",
    "e = emp()"
   ]
  },
  {
   "cell_type": "code",
   "execution_count": 32,
   "id": "2a4e4175",
   "metadata": {},
   "outputs": [
    {
     "name": "stdout",
     "output_type": "stream",
     "text": [
      "<__main__.emp object at 0x00000228C9D909A0>\n"
     ]
    }
   ],
   "source": [
    "print(e)"
   ]
  },
  {
   "cell_type": "code",
   "execution_count": null,
   "id": "e746c805",
   "metadata": {},
   "outputs": [],
   "source": []
  }
 ],
 "metadata": {
  "kernelspec": {
   "display_name": "Python 3 (ipykernel)",
   "language": "python",
   "name": "python3"
  },
  "language_info": {
   "codemirror_mode": {
    "name": "ipython",
    "version": 3
   },
   "file_extension": ".py",
   "mimetype": "text/x-python",
   "name": "python",
   "nbconvert_exporter": "python",
   "pygments_lexer": "ipython3",
   "version": "3.9.7"
  }
 },
 "nbformat": 4,
 "nbformat_minor": 5
}
