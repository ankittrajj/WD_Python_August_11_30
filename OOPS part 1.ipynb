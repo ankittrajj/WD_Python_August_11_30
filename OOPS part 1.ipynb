{
 "cells": [
  {
   "cell_type": "code",
   "execution_count": 7,
   "id": "7c51d50e",
   "metadata": {},
   "outputs": [
    {
     "data": {
      "text/plain": [
       "12000"
      ]
     },
     "execution_count": 7,
     "metadata": {},
     "output_type": "execute_result"
    }
   ],
   "source": [
    "# class\n",
    "class car:\n",
    "    price = 12000\n",
    "    \n",
    "    \n",
    "# object   \n",
    "c = car()\n",
    "c.price"
   ]
  },
  {
   "cell_type": "code",
   "execution_count": 13,
   "id": "fe0c75ee",
   "metadata": {},
   "outputs": [
    {
     "data": {
      "text/plain": [
       "('a', 45)"
      ]
     },
     "execution_count": 13,
     "metadata": {},
     "output_type": "execute_result"
    }
   ],
   "source": [
    "#wap to make a class of student having name & marks and make\n",
    "# an object to get the output.\n",
    "\n",
    "class student:\n",
    "    name = 'a'\n",
    "    marks = 45\n",
    "    \n",
    "s = student()\n",
    "s.name,s.marks"
   ]
  },
  {
   "cell_type": "code",
   "execution_count": 10,
   "id": "a6499977",
   "metadata": {},
   "outputs": [
    {
     "data": {
      "text/plain": [
       "45"
      ]
     },
     "execution_count": 10,
     "metadata": {},
     "output_type": "execute_result"
    }
   ],
   "source": [
    "s.marks"
   ]
  },
  {
   "cell_type": "code",
   "execution_count": 28,
   "id": "805d3ce6",
   "metadata": {},
   "outputs": [
    {
     "data": {
      "text/plain": [
       "('b', 23)"
      ]
     },
     "execution_count": 28,
     "metadata": {},
     "output_type": "execute_result"
    }
   ],
   "source": [
    "class student:\n",
    "    def info(self,name,marks=23):\n",
    "        name = 'b'\n",
    "#         marks = 23\n",
    "        return (name,marks)\n",
    "    \n",
    "s = student()\n",
    "s.info('ab')    "
   ]
  },
  {
   "cell_type": "code",
   "execution_count": 25,
   "id": "f2aa52d9",
   "metadata": {},
   "outputs": [
    {
     "data": {
      "text/plain": [
       "('b', 23)"
      ]
     },
     "execution_count": 25,
     "metadata": {},
     "output_type": "execute_result"
    }
   ],
   "source": [
    "s.info('c',90)"
   ]
  },
  {
   "cell_type": "code",
   "execution_count": null,
   "id": "4f07592f",
   "metadata": {},
   "outputs": [],
   "source": [
    "# a = [23,45,9,34,88,7]\n",
    "# find the max number in the list using function.\n"
   ]
  }
 ],
 "metadata": {
  "kernelspec": {
   "display_name": "Python 3 (ipykernel)",
   "language": "python",
   "name": "python3"
  },
  "language_info": {
   "codemirror_mode": {
    "name": "ipython",
    "version": 3
   },
   "file_extension": ".py",
   "mimetype": "text/x-python",
   "name": "python",
   "nbconvert_exporter": "python",
   "pygments_lexer": "ipython3",
   "version": "3.9.7"
  }
 },
 "nbformat": 4,
 "nbformat_minor": 5
}
