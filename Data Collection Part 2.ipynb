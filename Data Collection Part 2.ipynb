{
 "cells": [
  {
   "cell_type": "code",
   "execution_count": 1,
   "id": "799b9483",
   "metadata": {},
   "outputs": [
    {
     "name": "stdout",
     "output_type": "stream",
     "text": [
      "0\n",
      "1\n",
      "2\n",
      "3\n",
      "4\n",
      "5\n",
      "6\n",
      "7\n",
      "8\n",
      "9\n"
     ]
    }
   ],
   "source": [
    "for i in range(10):\n",
    "    print(i)"
   ]
  },
  {
   "cell_type": "code",
   "execution_count": 15,
   "id": "064cf71f",
   "metadata": {},
   "outputs": [],
   "source": [
    "x = [23,45,'Hello bhai','python']"
   ]
  },
  {
   "cell_type": "code",
   "execution_count": 3,
   "id": "1dd96c97",
   "metadata": {},
   "outputs": [
    {
     "name": "stdout",
     "output_type": "stream",
     "text": [
      "[23, 45, 'Hello bhai', 'python']\n"
     ]
    }
   ],
   "source": [
    "print(x)"
   ]
  },
  {
   "cell_type": "code",
   "execution_count": 5,
   "id": "49d98157",
   "metadata": {},
   "outputs": [],
   "source": [
    "x[-1]='sql'"
   ]
  },
  {
   "cell_type": "code",
   "execution_count": 6,
   "id": "5f20745a",
   "metadata": {},
   "outputs": [
    {
     "data": {
      "text/plain": [
       "[23, 45, 'Hello bhai', 'sql']"
      ]
     },
     "execution_count": 6,
     "metadata": {},
     "output_type": "execute_result"
    }
   ],
   "source": [
    "x"
   ]
  },
  {
   "cell_type": "code",
   "execution_count": 8,
   "id": "6065462d",
   "metadata": {},
   "outputs": [
    {
     "data": {
      "text/plain": [
       "'l'"
      ]
     },
     "execution_count": 8,
     "metadata": {},
     "output_type": "execute_result"
    }
   ],
   "source": [
    "x[-1][-1]"
   ]
  },
  {
   "cell_type": "code",
   "execution_count": 9,
   "id": "074bc943",
   "metadata": {},
   "outputs": [
    {
     "data": {
      "text/plain": [
       "[23, 45, 'Hello bhai', 'sql']"
      ]
     },
     "execution_count": 9,
     "metadata": {},
     "output_type": "execute_result"
    }
   ],
   "source": [
    "x"
   ]
  },
  {
   "cell_type": "code",
   "execution_count": 13,
   "id": "a458cd22",
   "metadata": {},
   "outputs": [],
   "source": [
    "x[1:3] = [0]"
   ]
  },
  {
   "cell_type": "code",
   "execution_count": 14,
   "id": "5d2f0864",
   "metadata": {},
   "outputs": [
    {
     "data": {
      "text/plain": [
       "[23, 0, 'sql']"
      ]
     },
     "execution_count": 14,
     "metadata": {},
     "output_type": "execute_result"
    }
   ],
   "source": [
    "x"
   ]
  },
  {
   "cell_type": "code",
   "execution_count": 16,
   "id": "ef47a976",
   "metadata": {},
   "outputs": [
    {
     "data": {
      "text/plain": [
       "[23, 45, 'Hello bhai', 'python']"
      ]
     },
     "execution_count": 16,
     "metadata": {},
     "output_type": "execute_result"
    }
   ],
   "source": [
    "x"
   ]
  },
  {
   "cell_type": "code",
   "execution_count": 19,
   "id": "14419d84",
   "metadata": {},
   "outputs": [],
   "source": [
    "x[1:3] = [55,'bahuballi']"
   ]
  },
  {
   "cell_type": "code",
   "execution_count": 20,
   "id": "bccdb77e",
   "metadata": {},
   "outputs": [
    {
     "data": {
      "text/plain": [
       "[23, 55, 'bahuballi']"
      ]
     },
     "execution_count": 20,
     "metadata": {},
     "output_type": "execute_result"
    }
   ],
   "source": [
    "x"
   ]
  },
  {
   "cell_type": "code",
   "execution_count": 22,
   "id": "03b6257d",
   "metadata": {},
   "outputs": [
    {
     "data": {
      "text/plain": [
       "[23, 55, 'bahuballi']"
      ]
     },
     "execution_count": 22,
     "metadata": {},
     "output_type": "execute_result"
    }
   ],
   "source": [
    "# list method\n",
    "\n",
    "# append\n",
    "# index\n",
    "# copy\n",
    "# extend\n",
    "# pop\n",
    "# remove\n",
    "# reverse\n",
    "\n",
    "\n",
    "x"
   ]
  },
  {
   "cell_type": "code",
   "execution_count": 32,
   "id": "78111957",
   "metadata": {},
   "outputs": [],
   "source": [
    "x.append(0)"
   ]
  },
  {
   "cell_type": "code",
   "execution_count": 33,
   "id": "9698df26",
   "metadata": {},
   "outputs": [
    {
     "data": {
      "text/plain": [
       "[23, 55, 'bahuballi', 0, 'spiderman', 0]"
      ]
     },
     "execution_count": 33,
     "metadata": {},
     "output_type": "execute_result"
    }
   ],
   "source": [
    "x"
   ]
  },
  {
   "cell_type": "code",
   "execution_count": 34,
   "id": "0bdfb4e8",
   "metadata": {},
   "outputs": [],
   "source": [
    "x.append('spiderman')"
   ]
  },
  {
   "cell_type": "code",
   "execution_count": 35,
   "id": "f5b4be2b",
   "metadata": {},
   "outputs": [
    {
     "data": {
      "text/plain": [
       "[23, 55, 'bahuballi', 0, 'spiderman', 0, 'spiderman']"
      ]
     },
     "execution_count": 35,
     "metadata": {},
     "output_type": "execute_result"
    }
   ],
   "source": [
    "x"
   ]
  },
  {
   "cell_type": "code",
   "execution_count": 37,
   "id": "8e25f93e",
   "metadata": {},
   "outputs": [
    {
     "data": {
      "text/plain": [
       "[23, 55, 'bahuballi', 0, 'spiderman', 0, 'spiderman']"
      ]
     },
     "execution_count": 37,
     "metadata": {},
     "output_type": "execute_result"
    }
   ],
   "source": [
    "x"
   ]
  },
  {
   "cell_type": "code",
   "execution_count": 38,
   "id": "40c497f2",
   "metadata": {},
   "outputs": [
    {
     "data": {
      "text/plain": [
       "3"
      ]
     },
     "execution_count": 38,
     "metadata": {},
     "output_type": "execute_result"
    }
   ],
   "source": [
    "x.index(0)"
   ]
  },
  {
   "cell_type": "code",
   "execution_count": 39,
   "id": "139af901",
   "metadata": {},
   "outputs": [
    {
     "data": {
      "text/plain": [
       "[23, 55, 'bahuballi', 0, 'spiderman', 0, 'spiderman']"
      ]
     },
     "execution_count": 39,
     "metadata": {},
     "output_type": "execute_result"
    }
   ],
   "source": [
    "# pop\n",
    "# remove\n",
    "x"
   ]
  },
  {
   "cell_type": "code",
   "execution_count": 40,
   "id": "d735e8b6",
   "metadata": {},
   "outputs": [
    {
     "data": {
      "text/plain": [
       "'spiderman'"
      ]
     },
     "execution_count": 40,
     "metadata": {},
     "output_type": "execute_result"
    }
   ],
   "source": [
    "x.pop()"
   ]
  },
  {
   "cell_type": "code",
   "execution_count": 41,
   "id": "9f2938a1",
   "metadata": {},
   "outputs": [
    {
     "data": {
      "text/plain": [
       "[23, 55, 'bahuballi', 0, 'spiderman', 0]"
      ]
     },
     "execution_count": 41,
     "metadata": {},
     "output_type": "execute_result"
    }
   ],
   "source": [
    "x"
   ]
  },
  {
   "cell_type": "code",
   "execution_count": 44,
   "id": "4ee07e05",
   "metadata": {},
   "outputs": [],
   "source": [
    "x.remove(0)"
   ]
  },
  {
   "cell_type": "code",
   "execution_count": 45,
   "id": "123d61a2",
   "metadata": {},
   "outputs": [
    {
     "data": {
      "text/plain": [
       "[23, 55, 'bahuballi', 'spiderman', 0]"
      ]
     },
     "execution_count": 45,
     "metadata": {},
     "output_type": "execute_result"
    }
   ],
   "source": [
    "x"
   ]
  },
  {
   "cell_type": "code",
   "execution_count": 46,
   "id": "6fdd4352",
   "metadata": {},
   "outputs": [],
   "source": [
    "x.remove(55)"
   ]
  },
  {
   "cell_type": "code",
   "execution_count": 47,
   "id": "7ff750c6",
   "metadata": {},
   "outputs": [
    {
     "data": {
      "text/plain": [
       "[23, 'bahuballi', 'spiderman', 0]"
      ]
     },
     "execution_count": 47,
     "metadata": {},
     "output_type": "execute_result"
    }
   ],
   "source": [
    "x"
   ]
  },
  {
   "cell_type": "code",
   "execution_count": 48,
   "id": "990d5938",
   "metadata": {},
   "outputs": [],
   "source": [
    "# sort & reverse"
   ]
  },
  {
   "cell_type": "code",
   "execution_count": 49,
   "id": "abe7f2b0",
   "metadata": {},
   "outputs": [
    {
     "data": {
      "text/plain": [
       "[23, 'bahuballi', 'spiderman', 0]"
      ]
     },
     "execution_count": 49,
     "metadata": {},
     "output_type": "execute_result"
    }
   ],
   "source": [
    "x"
   ]
  },
  {
   "cell_type": "code",
   "execution_count": 50,
   "id": "a0c3aa29",
   "metadata": {},
   "outputs": [
    {
     "ename": "TypeError",
     "evalue": "'<' not supported between instances of 'str' and 'int'",
     "output_type": "error",
     "traceback": [
      "\u001b[1;31m---------------------------------------------------------------------------\u001b[0m",
      "\u001b[1;31mTypeError\u001b[0m                                 Traceback (most recent call last)",
      "\u001b[1;32m~\\AppData\\Local\\Temp/ipykernel_10864/1937178097.py\u001b[0m in \u001b[0;36m<module>\u001b[1;34m\u001b[0m\n\u001b[1;32m----> 1\u001b[1;33m \u001b[0mx\u001b[0m\u001b[1;33m.\u001b[0m\u001b[0msort\u001b[0m\u001b[1;33m(\u001b[0m\u001b[1;33m)\u001b[0m\u001b[1;33m\u001b[0m\u001b[1;33m\u001b[0m\u001b[0m\n\u001b[0m",
      "\u001b[1;31mTypeError\u001b[0m: '<' not supported between instances of 'str' and 'int'"
     ]
    }
   ],
   "source": [
    "x.sort()"
   ]
  },
  {
   "cell_type": "code",
   "execution_count": 51,
   "id": "dee2a43d",
   "metadata": {},
   "outputs": [],
   "source": [
    "a = [89,56,-23,45]\n",
    "a.sort()"
   ]
  },
  {
   "cell_type": "code",
   "execution_count": 52,
   "id": "9d8be770",
   "metadata": {},
   "outputs": [
    {
     "data": {
      "text/plain": [
       "[-23, 45, 56, 89]"
      ]
     },
     "execution_count": 52,
     "metadata": {},
     "output_type": "execute_result"
    }
   ],
   "source": [
    "a"
   ]
  },
  {
   "cell_type": "code",
   "execution_count": 54,
   "id": "e366f23e",
   "metadata": {},
   "outputs": [],
   "source": [
    "a = [89,56,-23,45]"
   ]
  },
  {
   "cell_type": "code",
   "execution_count": 55,
   "id": "1ac4a4dd",
   "metadata": {},
   "outputs": [],
   "source": [
    "a.reverse()"
   ]
  },
  {
   "cell_type": "code",
   "execution_count": 56,
   "id": "192370c2",
   "metadata": {},
   "outputs": [
    {
     "data": {
      "text/plain": [
       "[45, -23, 56, 89]"
      ]
     },
     "execution_count": 56,
     "metadata": {},
     "output_type": "execute_result"
    }
   ],
   "source": [
    "a"
   ]
  },
  {
   "cell_type": "code",
   "execution_count": 57,
   "id": "633838cc",
   "metadata": {},
   "outputs": [],
   "source": [
    "a = [89,56,-23,45]"
   ]
  },
  {
   "cell_type": "code",
   "execution_count": 60,
   "id": "b96a14b7",
   "metadata": {},
   "outputs": [],
   "source": [
    "a.sort(reverse = True)"
   ]
  },
  {
   "cell_type": "code",
   "execution_count": 61,
   "id": "2619c7c5",
   "metadata": {},
   "outputs": [
    {
     "data": {
      "text/plain": [
       "[89, 56, 45, -23]"
      ]
     },
     "execution_count": 61,
     "metadata": {},
     "output_type": "execute_result"
    }
   ],
   "source": [
    "a"
   ]
  },
  {
   "cell_type": "code",
   "execution_count": 62,
   "id": "b831d301",
   "metadata": {},
   "outputs": [],
   "source": [
    "a = [12,89,56]\n",
    "a.reverse()"
   ]
  },
  {
   "cell_type": "code",
   "execution_count": 63,
   "id": "0537c05e",
   "metadata": {},
   "outputs": [
    {
     "data": {
      "text/plain": [
       "[56, 89, 12]"
      ]
     },
     "execution_count": 63,
     "metadata": {},
     "output_type": "execute_result"
    }
   ],
   "source": [
    "a"
   ]
  },
  {
   "cell_type": "code",
   "execution_count": 64,
   "id": "a4b198ee",
   "metadata": {},
   "outputs": [],
   "source": [
    "#wap to find the number is palindrome or not?\n"
   ]
  },
  {
   "cell_type": "code",
   "execution_count": null,
   "id": "2719a10d",
   "metadata": {},
   "outputs": [],
   "source": [
    "# wap to reverse a list.\n",
    "\n",
    "# #wap to swap a first & last number of the list.\n",
    "\n",
    "# wap to find max number in a list.\n",
    "\n",
    "# wap to find min number in a list.\n",
    "\n",
    "#Wap to sum the number present in a list.\n",
    "\n",
    "#wap to print even number in a list.\n",
    "\n",
    "# wap to print odd number in a list.\n",
    "\n",
    "# Wap to find common element in the list\n",
    "# a = [34,45,89,56]\n",
    "# b = [67,89,23,90]\n"
   ]
  }
 ],
 "metadata": {
  "kernelspec": {
   "display_name": "Python 3 (ipykernel)",
   "language": "python",
   "name": "python3"
  },
  "language_info": {
   "codemirror_mode": {
    "name": "ipython",
    "version": 3
   },
   "file_extension": ".py",
   "mimetype": "text/x-python",
   "name": "python",
   "nbconvert_exporter": "python",
   "pygments_lexer": "ipython3",
   "version": "3.9.7"
  }
 },
 "nbformat": 4,
 "nbformat_minor": 5
}
