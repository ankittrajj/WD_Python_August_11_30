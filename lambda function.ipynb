{
 "cells": [
  {
   "cell_type": "code",
   "execution_count": 3,
   "id": "fd2f5732",
   "metadata": {},
   "outputs": [],
   "source": [
    "# 15\n",
    "# x = [2,3,4,5]\n",
    "\n",
    "a = lambda x:x*15"
   ]
  },
  {
   "cell_type": "code",
   "execution_count": 4,
   "id": "e24cec96",
   "metadata": {},
   "outputs": [
    {
     "data": {
      "text/plain": [
       "30"
      ]
     },
     "execution_count": 4,
     "metadata": {},
     "output_type": "execute_result"
    }
   ],
   "source": [
    "a(2)"
   ]
  },
  {
   "cell_type": "code",
   "execution_count": 5,
   "id": "7fb91968",
   "metadata": {},
   "outputs": [
    {
     "data": {
      "text/plain": [
       "45"
      ]
     },
     "execution_count": 5,
     "metadata": {},
     "output_type": "execute_result"
    }
   ],
   "source": [
    "a(3)"
   ]
  },
  {
   "cell_type": "code",
   "execution_count": 6,
   "id": "1be77952",
   "metadata": {},
   "outputs": [
    {
     "data": {
      "text/plain": [
       "60"
      ]
     },
     "execution_count": 6,
     "metadata": {},
     "output_type": "execute_result"
    }
   ],
   "source": [
    "a(4)"
   ]
  },
  {
   "cell_type": "code",
   "execution_count": 7,
   "id": "f444e81a",
   "metadata": {},
   "outputs": [
    {
     "data": {
      "text/plain": [
       "75"
      ]
     },
     "execution_count": 7,
     "metadata": {},
     "output_type": "execute_result"
    }
   ],
   "source": [
    "a(5)"
   ]
  },
  {
   "cell_type": "code",
   "execution_count": 8,
   "id": "8fbaae20",
   "metadata": {},
   "outputs": [],
   "source": [
    "# avg of 5 num.\n",
    "\n",
    "c = lambda x,y,z:(x+y+z)/3"
   ]
  },
  {
   "cell_type": "code",
   "execution_count": 9,
   "id": "fe5ab24d",
   "metadata": {},
   "outputs": [
    {
     "data": {
      "text/plain": [
       "4.0"
      ]
     },
     "execution_count": 9,
     "metadata": {},
     "output_type": "execute_result"
    }
   ],
   "source": [
    "c(3,4,5)"
   ]
  },
  {
   "cell_type": "code",
   "execution_count": 10,
   "id": "f787fefb",
   "metadata": {},
   "outputs": [],
   "source": [
    "# cube of a number\n",
    "\n",
    "x = lambda a:a**3"
   ]
  },
  {
   "cell_type": "code",
   "execution_count": 11,
   "id": "7ea48f37",
   "metadata": {},
   "outputs": [
    {
     "data": {
      "text/plain": [
       "8"
      ]
     },
     "execution_count": 11,
     "metadata": {},
     "output_type": "execute_result"
    }
   ],
   "source": [
    "x(2)"
   ]
  },
  {
   "cell_type": "markdown",
   "id": "29e0e8ec",
   "metadata": {},
   "source": [
    "# Filter function"
   ]
  },
  {
   "cell_type": "code",
   "execution_count": 12,
   "id": "ac6ccc14",
   "metadata": {},
   "outputs": [
    {
     "name": "stdout",
     "output_type": "stream",
     "text": [
      "[65, 89, 87, 90, 61]\n"
     ]
    }
   ],
   "source": [
    "a = [34,89,90,56,45,67,89,32,-8,36,86,12]\n",
    "a=[65,34,56,89,87,90,34,60,56,61]\n",
    "b=[]\n",
    "for i in a:\n",
    "      if i>60:\n",
    "            b.append(i)\n",
    "print(b)\n"
   ]
  },
  {
   "cell_type": "code",
   "execution_count": 14,
   "id": "6d17889d",
   "metadata": {},
   "outputs": [
    {
     "data": {
      "text/plain": [
       "[89, 90, 67, 89, 86]"
      ]
     },
     "execution_count": 14,
     "metadata": {},
     "output_type": "execute_result"
    }
   ],
   "source": [
    "a = [34,89,90,56,45,67,89,32,-8,36,86,12]\n",
    "list(filter(lambda a: True if a>60 else False,a))"
   ]
  },
  {
   "cell_type": "code",
   "execution_count": 18,
   "id": "95535dcc",
   "metadata": {},
   "outputs": [
    {
     "data": {
      "text/plain": [
       "(89, 90, 67, 89, 86)"
      ]
     },
     "execution_count": 18,
     "metadata": {},
     "output_type": "execute_result"
    }
   ],
   "source": [
    "a = [34,89,90,56,45,67,89,32,-8,36,86,12]\n",
    "\n",
    "def fun(a):\n",
    "    if a>60:\n",
    "        return True\n",
    "    else:\n",
    "        return False\n",
    "    \n",
    "tuple(filter(fun,a))"
   ]
  },
  {
   "cell_type": "markdown",
   "id": "42caab2a",
   "metadata": {},
   "source": [
    "# Map function"
   ]
  },
  {
   "cell_type": "code",
   "execution_count": 19,
   "id": "d66fb2f9",
   "metadata": {},
   "outputs": [
    {
     "data": {
      "text/plain": [
       "[1, 4, 9, 16]"
      ]
     },
     "execution_count": 19,
     "metadata": {},
     "output_type": "execute_result"
    }
   ],
   "source": [
    "a = [1,2,3,4]\n",
    "list(map(lambda a:a**2,a))"
   ]
  },
  {
   "cell_type": "code",
   "execution_count": 24,
   "id": "720d15a7",
   "metadata": {},
   "outputs": [
    {
     "data": {
      "text/plain": [
       "[9, 16, 25, 36]"
      ]
     },
     "execution_count": 24,
     "metadata": {},
     "output_type": "execute_result"
    }
   ],
   "source": [
    "a = [3,4,5,6]\n",
    "def sq(a):\n",
    "    b =[3,7,8,4]\n",
    "    a = a**2\n",
    "    return a\n",
    "\n",
    "list(map(sq,a))"
   ]
  },
  {
   "cell_type": "markdown",
   "id": "aaec05b1",
   "metadata": {},
   "source": [
    "# Reduce function"
   ]
  },
  {
   "cell_type": "code",
   "execution_count": 25,
   "id": "b1398955",
   "metadata": {},
   "outputs": [],
   "source": [
    "from functools import reduce"
   ]
  },
  {
   "cell_type": "code",
   "execution_count": 30,
   "id": "92b1d95f",
   "metadata": {},
   "outputs": [],
   "source": [
    "a = (1,2,3,4)\n",
    "d = reduce(lambda x,y:x+y,a)"
   ]
  },
  {
   "cell_type": "code",
   "execution_count": 31,
   "id": "cddb9629",
   "metadata": {},
   "outputs": [
    {
     "data": {
      "text/plain": [
       "10"
      ]
     },
     "execution_count": 31,
     "metadata": {},
     "output_type": "execute_result"
    }
   ],
   "source": [
    "d"
   ]
  },
  {
   "cell_type": "code",
   "execution_count": 32,
   "id": "bf8e5ced",
   "metadata": {},
   "outputs": [
    {
     "data": {
      "text/plain": [
       "int"
      ]
     },
     "execution_count": 32,
     "metadata": {},
     "output_type": "execute_result"
    }
   ],
   "source": [
    "type(d)"
   ]
  },
  {
   "cell_type": "code",
   "execution_count": null,
   "id": "281dd65b",
   "metadata": {},
   "outputs": [],
   "source": []
  }
 ],
 "metadata": {
  "kernelspec": {
   "display_name": "Python 3 (ipykernel)",
   "language": "python",
   "name": "python3"
  },
  "language_info": {
   "codemirror_mode": {
    "name": "ipython",
    "version": 3
   },
   "file_extension": ".py",
   "mimetype": "text/x-python",
   "name": "python",
   "nbconvert_exporter": "python",
   "pygments_lexer": "ipython3",
   "version": "3.9.7"
  }
 },
 "nbformat": 4,
 "nbformat_minor": 5
}
