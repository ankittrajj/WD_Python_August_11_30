{
 "cells": [
  {
   "cell_type": "code",
   "execution_count": 1,
   "id": "2815eb7d",
   "metadata": {},
   "outputs": [],
   "source": [
    "# # LCM\n",
    "# x = 7\n",
    "# y = 9\n",
    "\n",
    "# # choose the greatest number\n",
    "# if x>y:\n",
    "#     greater = x\n",
    "# else:\n",
    "#     greater = y\n",
    "    \n",
    "# while True:\n",
    "    \n",
    "#     if greater % x == 0 and greater % y == 0:\n",
    "        \n",
    "#         lcm = greater\n",
    "#         print(lcm)\n",
    "#         break\n",
    "      \n",
    "#         greater+=1"
   ]
  },
  {
   "cell_type": "code",
   "execution_count": 2,
   "id": "0f4df55e",
   "metadata": {},
   "outputs": [
    {
     "name": "stdout",
     "output_type": "stream",
     "text": [
      "32\n"
     ]
    }
   ],
   "source": [
    "# reverse the number\n",
    "\n",
    "num = 23\n",
    "rev_num = 0\n",
    "\n",
    "while num!=0:\n",
    "    digit = num%10\n",
    "    rev_num = rev_num*10+digit\n",
    "    num//=10\n",
    "    \n",
    "print(rev_num)\n",
    "    "
   ]
  },
  {
   "cell_type": "code",
   "execution_count": null,
   "id": "0adc66a9",
   "metadata": {},
   "outputs": [],
   "source": [
    "# WAP to print fizz and buzz , if a number is \n",
    "# divisible by 3 print fizz\n",
    "# if a number is divisible by 5 print buzz and of \n",
    "# divisible by \n",
    "# both print fizz buzz\n",
    "# if not divisible by any one print -1 or \n",
    "# divisible by 2 print\n",
    "# even or divisible \n",
    "# by 3 but not by 2 & 5 then print odd . "
   ]
  }
 ],
 "metadata": {
  "kernelspec": {
   "display_name": "Python 3 (ipykernel)",
   "language": "python",
   "name": "python3"
  },
  "language_info": {
   "codemirror_mode": {
    "name": "ipython",
    "version": 3
   },
   "file_extension": ".py",
   "mimetype": "text/x-python",
   "name": "python",
   "nbconvert_exporter": "python",
   "pygments_lexer": "ipython3",
   "version": "3.9.7"
  }
 },
 "nbformat": 4,
 "nbformat_minor": 5
}
