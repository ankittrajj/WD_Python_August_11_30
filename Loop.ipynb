{
 "cells": [
  {
   "cell_type": "code",
   "execution_count": 1,
   "id": "4dd29f14",
   "metadata": {},
   "outputs": [
    {
     "name": "stdout",
     "output_type": "stream",
     "text": [
      "0\n",
      "1\n",
      "2\n",
      "3\n",
      "4\n",
      "5\n",
      "6\n",
      "7\n",
      "8\n",
      "9\n"
     ]
    }
   ],
   "source": [
    "#wap to print numbers from 1-10.\n",
    "# loop\n",
    "# for\n",
    "# while\n",
    "\n",
    "\n",
    "\n",
    "# for loop\n",
    "\n",
    "# syntax---->\n",
    "\n",
    "# for variable in range(def the range):\n",
    "#     print(var)\n",
    "\n",
    "# print(0-10)\n",
    "\n",
    "for i in range(10):\n",
    "    print(i)"
   ]
  },
  {
   "cell_type": "code",
   "execution_count": 2,
   "id": "dba895a6",
   "metadata": {},
   "outputs": [
    {
     "name": "stdout",
     "output_type": "stream",
     "text": [
      "2\n",
      "3\n",
      "4\n",
      "5\n",
      "6\n",
      "7\n",
      "8\n"
     ]
    }
   ],
   "source": [
    "#wap to print numbers from 2-8.\n",
    "\n",
    "for i in range(2,9):\n",
    "    print(i)"
   ]
  },
  {
   "cell_type": "code",
   "execution_count": 3,
   "id": "076b5af9",
   "metadata": {},
   "outputs": [
    {
     "name": "stdout",
     "output_type": "stream",
     "text": [
      "1\n",
      "2\n",
      "3\n",
      "4\n",
      "5\n",
      "6\n",
      "7\n",
      "8\n",
      "9\n",
      "10\n",
      "11\n",
      "12\n",
      "13\n",
      "14\n",
      "15\n",
      "16\n",
      "17\n",
      "18\n",
      "19\n",
      "20\n",
      "21\n",
      "22\n",
      "23\n",
      "24\n",
      "25\n",
      "26\n",
      "27\n",
      "28\n",
      "29\n",
      "30\n",
      "31\n",
      "32\n",
      "33\n",
      "34\n",
      "35\n",
      "36\n",
      "37\n",
      "38\n",
      "39\n",
      "40\n",
      "41\n",
      "42\n",
      "43\n",
      "44\n",
      "45\n",
      "46\n",
      "47\n",
      "48\n",
      "49\n",
      "50\n"
     ]
    }
   ],
   "source": [
    "#wap to print numbers from 1-50 \n",
    "# try to print numbers in alternative way.\n",
    "\n",
    "for i in range(1,51,1):\n",
    "    print(i)"
   ]
  },
  {
   "cell_type": "code",
   "execution_count": 4,
   "id": "f2a006ec",
   "metadata": {},
   "outputs": [],
   "source": [
    "# for loop ----> known number of iteration/repeatation.\n"
   ]
  },
  {
   "cell_type": "markdown",
   "id": "13ae4a9e",
   "metadata": {},
   "source": [
    "# While loop"
   ]
  },
  {
   "cell_type": "code",
   "execution_count": 5,
   "id": "144f44a8",
   "metadata": {},
   "outputs": [
    {
     "name": "stdout",
     "output_type": "stream",
     "text": [
      "1\n",
      "2\n",
      "3\n",
      "4\n",
      "5\n",
      "6\n",
      "7\n",
      "8\n",
      "9\n",
      "10\n",
      "11\n",
      "12\n",
      "13\n",
      "14\n",
      "15\n",
      "16\n",
      "17\n",
      "18\n",
      "19\n"
     ]
    }
   ],
   "source": [
    "# 1.initialize\n",
    "# 2.condition\n",
    "# 3.increment/decrement\n",
    "\n",
    "# print(1-10)\n",
    "\n",
    "x = 1\n",
    "while x<20:\n",
    "    print(x)\n",
    "    x = x+1\n",
    "#     x+=1\n",
    "#     ++x"
   ]
  },
  {
   "cell_type": "code",
   "execution_count": 6,
   "id": "887d18be",
   "metadata": {},
   "outputs": [],
   "source": [
    "# wap to print -1 to 10.\n",
    "#wap to print -1 to -10.\n",
    "#wap to print 1 to -10.\n",
    "#wap to print even number from 1-50.\n",
    "# Also try to count \n",
    "# the nunbers.\n",
    "# Wap to print odd number from 20-80.\n",
    "# Also try to count the numbers\n",
    "\n",
    "\n"
   ]
  },
  {
   "cell_type": "code",
   "execution_count": 7,
   "id": "b7fdd689",
   "metadata": {},
   "outputs": [
    {
     "name": "stdout",
     "output_type": "stream",
     "text": [
      "-1\n",
      "0\n",
      "1\n",
      "2\n",
      "3\n",
      "4\n",
      "5\n",
      "6\n",
      "7\n",
      "8\n",
      "9\n",
      "10\n"
     ]
    }
   ],
   "source": [
    "# wap to print -1 to 10.\n",
    "\n",
    "for i in range(-1,11):\n",
    "    print(i)"
   ]
  },
  {
   "cell_type": "code",
   "execution_count": 9,
   "id": "bf08ebc0",
   "metadata": {},
   "outputs": [
    {
     "name": "stdout",
     "output_type": "stream",
     "text": [
      "-1\n",
      "-2\n",
      "-3\n",
      "-4\n",
      "-5\n",
      "-6\n",
      "-7\n",
      "-8\n",
      "-9\n",
      "-10\n"
     ]
    }
   ],
   "source": [
    "#wap to print -1 to -10.\n",
    "for i in range(-1,-11,-1):\n",
    "    print(i)"
   ]
  },
  {
   "cell_type": "code",
   "execution_count": 10,
   "id": "1910116d",
   "metadata": {},
   "outputs": [
    {
     "name": "stdout",
     "output_type": "stream",
     "text": [
      "-11\n",
      "-10\n",
      "-9\n",
      "-8\n",
      "-7\n",
      "-6\n",
      "-5\n",
      "-4\n",
      "-3\n",
      "-2\n"
     ]
    }
   ],
   "source": [
    "for i in range(-11,-1):\n",
    "    print(i)"
   ]
  },
  {
   "cell_type": "code",
   "execution_count": 12,
   "id": "ea777069",
   "metadata": {},
   "outputs": [
    {
     "name": "stdout",
     "output_type": "stream",
     "text": [
      "1\n",
      "0\n",
      "-1\n",
      "-2\n",
      "-3\n",
      "-4\n",
      "-5\n",
      "-6\n",
      "-7\n",
      "-8\n",
      "-9\n"
     ]
    }
   ],
   "source": [
    "for i in range(1,-10,-1):\n",
    "    print(i)\n",
    "    "
   ]
  },
  {
   "cell_type": "code",
   "execution_count": 21,
   "id": "15da3fd8",
   "metadata": {},
   "outputs": [
    {
     "name": "stdout",
     "output_type": "stream",
     "text": [
      "2\n",
      "4\n",
      "6\n",
      "8\n",
      "10\n",
      "12\n",
      "14\n",
      "16\n",
      "18\n",
      "20\n",
      "22\n",
      "24\n",
      "26\n",
      "28\n",
      "30\n",
      "Count ----> 15\n"
     ]
    }
   ],
   "source": [
    "count = 0\n",
    "for i in range(1,31):\n",
    "    if i%2==0:\n",
    "        print(i)\n",
    "        count = count+1\n",
    "print(\"Count ---->\",count)"
   ]
  },
  {
   "cell_type": "code",
   "execution_count": 23,
   "id": "bb87c814",
   "metadata": {},
   "outputs": [
    {
     "name": "stdout",
     "output_type": "stream",
     "text": [
      "1\n",
      "3\n",
      "5\n",
      "7\n",
      "9\n",
      "11\n",
      "13\n",
      "15\n",
      "17\n",
      "19\n",
      "21\n",
      "23\n",
      "25\n",
      "27\n",
      "29\n",
      "Count ----> 15\n"
     ]
    }
   ],
   "source": [
    "count = 0\n",
    "for i in range(1,31):\n",
    "    if i%2!=0:\n",
    "        print(i)\n",
    "        count = count+1\n",
    "print(\"Count ---->\",count)"
   ]
  },
  {
   "cell_type": "code",
   "execution_count": 29,
   "id": "9e23e5bc",
   "metadata": {},
   "outputs": [
    {
     "name": "stdout",
     "output_type": "stream",
     "text": [
      "nitin\n",
      "NR\n"
     ]
    }
   ],
   "source": [
    "#wap to check a string is reversed or not.\n",
    "# wap to check a string is palindrome or not.\n",
    "\n",
    "x = 'nitin'\n",
    "y = ''\n",
    "for i in x:\n",
    "#     print(i)\n",
    "    y = i+y\n",
    "print(y)\n",
    "\n",
    "if x != y :\n",
    "    print(\"Reverse\")\n",
    "else:\n",
    "    print('NR')"
   ]
  },
  {
   "cell_type": "code",
   "execution_count": null,
   "id": "439a5fed",
   "metadata": {},
   "outputs": [],
   "source": []
  }
 ],
 "metadata": {
  "kernelspec": {
   "display_name": "Python 3 (ipykernel)",
   "language": "python",
   "name": "python3"
  },
  "language_info": {
   "codemirror_mode": {
    "name": "ipython",
    "version": 3
   },
   "file_extension": ".py",
   "mimetype": "text/x-python",
   "name": "python",
   "nbconvert_exporter": "python",
   "pygments_lexer": "ipython3",
   "version": "3.9.7"
  }
 },
 "nbformat": 4,
 "nbformat_minor": 5
}
