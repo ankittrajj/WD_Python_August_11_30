{
 "cells": [
  {
   "cell_type": "code",
   "execution_count": 1,
   "id": "523cc04d",
   "metadata": {},
   "outputs": [
    {
     "data": {
      "text/plain": [
       "'X'"
      ]
     },
     "execution_count": 1,
     "metadata": {},
     "output_type": "execute_result"
    }
   ],
   "source": [
    "class std:\n",
    "     def __init__(self,name,age):\n",
    "            self.name = name\n",
    "            self.age = age\n",
    "            \n",
    "            \n",
    "s = std('X',678)\n",
    "s.name"
   ]
  },
  {
   "cell_type": "code",
   "execution_count": 2,
   "id": "047f4295",
   "metadata": {},
   "outputs": [
    {
     "data": {
      "text/plain": [
       "'Sahil'"
      ]
     },
     "execution_count": 2,
     "metadata": {},
     "output_type": "execute_result"
    }
   ],
   "source": [
    "# inheritance ----> \n",
    "\n",
    "class emp:\n",
    "    def __init__(self,name,age):\n",
    "        self.name = name\n",
    "        self.age = age\n",
    "    \n",
    "class emp2(emp):\n",
    "    def __init__(self,name,age,sal):\n",
    "        super().__init__(name,age)\n",
    "        self.sal = sal\n",
    "        \n",
    "        \n",
    "e = emp2(\"Sahil\",56,90)\n",
    "e.name\n",
    "        \n"
   ]
  },
  {
   "cell_type": "code",
   "execution_count": 3,
   "id": "16ab3088",
   "metadata": {},
   "outputs": [
    {
     "data": {
      "text/plain": [
       "56"
      ]
     },
     "execution_count": 3,
     "metadata": {},
     "output_type": "execute_result"
    }
   ],
   "source": [
    "e.age"
   ]
  },
  {
   "cell_type": "code",
   "execution_count": 4,
   "id": "c44f969f",
   "metadata": {},
   "outputs": [
    {
     "data": {
      "text/plain": [
       "90"
      ]
     },
     "execution_count": 4,
     "metadata": {},
     "output_type": "execute_result"
    }
   ],
   "source": [
    "e.sal"
   ]
  },
  {
   "cell_type": "code",
   "execution_count": 18,
   "id": "fb2d8f4a",
   "metadata": {},
   "outputs": [
    {
     "data": {
      "text/plain": [
       "'intern'"
      ]
     },
     "execution_count": 18,
     "metadata": {},
     "output_type": "execute_result"
    }
   ],
   "source": [
    "class emp:\n",
    "    def __init__(self,name,age):\n",
    "        self.name = name\n",
    "        self.age = age\n",
    "\n",
    "class emp2:\n",
    "    def __init__(self,sal):\n",
    "        self.sal = sal\n",
    "        \n",
    "class emp3(emp,emp2):\n",
    "    def __init__(self,name,age,sal,role):\n",
    "        super().__init__(name,age)\n",
    "        super().__init__(sal,age)\n",
    "        self.role = role\n",
    "        \n",
    "    \n",
    "e= emp3('rohan',25,34,'intern')\n",
    "    \n",
    "e.role\n"
   ]
  },
  {
   "cell_type": "code",
   "execution_count": 29,
   "id": "a4d6f8c3",
   "metadata": {},
   "outputs": [
    {
     "data": {
      "text/plain": [
       "1"
      ]
     },
     "execution_count": 29,
     "metadata": {},
     "output_type": "execute_result"
    }
   ],
   "source": [
    "class one:\n",
    "    def __init__(self,x):\n",
    "        self.x = x\n",
    "    \n",
    "class two:\n",
    "    def __init__(self,y):\n",
    "        self.y = y\n",
    "    \n",
    "class three(one,two):\n",
    "    def __init__(self,x,y,z):\n",
    "        one.__init__(self,x)\n",
    "        two.__init__(self,y)\n",
    "        self.z = z\n",
    "        \n",
    "t = three(1,67,34)\n",
    "t.x"
   ]
  },
  {
   "cell_type": "code",
   "execution_count": 30,
   "id": "794ab7db",
   "metadata": {},
   "outputs": [
    {
     "data": {
      "text/plain": [
       "34"
      ]
     },
     "execution_count": 30,
     "metadata": {},
     "output_type": "execute_result"
    }
   ],
   "source": [
    "t.z"
   ]
  },
  {
   "cell_type": "code",
   "execution_count": 31,
   "id": "0a12c8fd",
   "metadata": {},
   "outputs": [
    {
     "data": {
      "text/plain": [
       "67"
      ]
     },
     "execution_count": 31,
     "metadata": {},
     "output_type": "execute_result"
    }
   ],
   "source": [
    "t.y"
   ]
  },
  {
   "cell_type": "code",
   "execution_count": 32,
   "id": "253448cb",
   "metadata": {},
   "outputs": [
    {
     "data": {
      "text/plain": [
       "3"
      ]
     },
     "execution_count": 32,
     "metadata": {},
     "output_type": "execute_result"
    }
   ],
   "source": [
    "class me:\n",
    "    def func(self,x):\n",
    "        return x\n",
    "    \n",
    "class you(me):\n",
    "    def detail(self,y):\n",
    "        return y\n",
    "    \n",
    "y = you()\n",
    "y.func(3)"
   ]
  },
  {
   "cell_type": "code",
   "execution_count": 33,
   "id": "e0eab39e",
   "metadata": {},
   "outputs": [
    {
     "data": {
      "text/plain": [
       "56"
      ]
     },
     "execution_count": 33,
     "metadata": {},
     "output_type": "execute_result"
    }
   ],
   "source": [
    "y.detail(56)"
   ]
  },
  {
   "cell_type": "markdown",
   "id": "a567c6bc",
   "metadata": {},
   "source": [
    "# Abstraction"
   ]
  },
  {
   "cell_type": "code",
   "execution_count": 47,
   "id": "3b43ff0b",
   "metadata": {},
   "outputs": [
    {
     "data": {
      "text/plain": [
       "5"
      ]
     },
     "execution_count": 47,
     "metadata": {},
     "output_type": "execute_result"
    }
   ],
   "source": [
    "from abc import ABC,abstractmethod\n",
    "\n",
    "class detail(ABC):\n",
    "    @abstractmethod\n",
    "    def __init__(self,x):\n",
    "        self.x = x\n",
    "        \n",
    "class info(detail):\n",
    "    def __init__(self,x,y):\n",
    "        super().__init__(x)\n",
    "        self.y = y\n",
    "        \n",
    "i = info(3,5)\n",
    "i.y\n",
    "        "
   ]
  },
  {
   "cell_type": "code",
   "execution_count": 48,
   "id": "2513ce89",
   "metadata": {},
   "outputs": [
    {
     "data": {
      "text/plain": [
       "3"
      ]
     },
     "execution_count": 48,
     "metadata": {},
     "output_type": "execute_result"
    }
   ],
   "source": [
    "i.x"
   ]
  },
  {
   "cell_type": "code",
   "execution_count": null,
   "id": "7dd26b1b",
   "metadata": {},
   "outputs": [],
   "source": []
  }
 ],
 "metadata": {
  "kernelspec": {
   "display_name": "Python 3 (ipykernel)",
   "language": "python",
   "name": "python3"
  },
  "language_info": {
   "codemirror_mode": {
    "name": "ipython",
    "version": 3
   },
   "file_extension": ".py",
   "mimetype": "text/x-python",
   "name": "python",
   "nbconvert_exporter": "python",
   "pygments_lexer": "ipython3",
   "version": "3.9.7"
  }
 },
 "nbformat": 4,
 "nbformat_minor": 5
}
