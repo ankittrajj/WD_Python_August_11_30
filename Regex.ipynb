{
 "cells": [
  {
   "cell_type": "code",
   "execution_count": 1,
   "id": "7f8c5703",
   "metadata": {},
   "outputs": [],
   "source": [
    "import re"
   ]
  },
  {
   "cell_type": "code",
   "execution_count": 17,
   "id": "36908df2",
   "metadata": {},
   "outputs": [
    {
     "data": {
      "text/plain": [
       "['I']"
      ]
     },
     "execution_count": 17,
     "metadata": {},
     "output_type": "execute_result"
    }
   ],
   "source": [
    "# search\n",
    "# findall\n",
    "# sub\n",
    "# split\n",
    "# finditer\n",
    "\n",
    "x = 'I am a Lion and i know it u r a lion.'\n",
    "re.findall('I',x)"
   ]
  },
  {
   "cell_type": "code",
   "execution_count": 21,
   "id": "6cd89622",
   "metadata": {},
   "outputs": [
    {
     "data": {
      "text/plain": [
       "<re.Match object; span=(9, 10), match='o'>"
      ]
     },
     "execution_count": 21,
     "metadata": {},
     "output_type": "execute_result"
    }
   ],
   "source": [
    "re.search('o',x)"
   ]
  },
  {
   "cell_type": "code",
   "execution_count": 24,
   "id": "3d1b5c7b",
   "metadata": {},
   "outputs": [
    {
     "data": {
      "text/plain": [
       "'I am a Laon and a know at u r a laon.'"
      ]
     },
     "execution_count": 24,
     "metadata": {},
     "output_type": "execute_result"
    }
   ],
   "source": [
    "# sub -----> subsitute\n",
    "re.sub('i','a',x)"
   ]
  },
  {
   "cell_type": "code",
   "execution_count": 27,
   "id": "3635a0c2",
   "metadata": {},
   "outputs": [
    {
     "data": {
      "text/plain": [
       "['I am a L', 'on and ', ' know ', 't u r a l', 'on.']"
      ]
     },
     "execution_count": 27,
     "metadata": {},
     "output_type": "execute_result"
    }
   ],
   "source": [
    "# split -----> \n",
    "re.split('i',x)"
   ]
  },
  {
   "cell_type": "code",
   "execution_count": 40,
   "id": "c4ac646c",
   "metadata": {},
   "outputs": [
    {
     "name": "stdout",
     "output_type": "stream",
     "text": [
      "Starting Point is ------> 8 Ending Point is -----> 9\n",
      "Starting Point is ------> 16 Ending Point is -----> 17\n",
      "Starting Point is ------> 23 Ending Point is -----> 24\n"
     ]
    }
   ],
   "source": [
    "# finditer\n",
    "x = \"I am a lion and i know it.\"\n",
    "pattern = 'i'\n",
    "for a in re.finditer(pattern,x):\n",
    "    x = a.start()\n",
    "    y = a.end()\n",
    "    print(\"Starting Point is ------>\",x,\"Ending Point is ----->\",y)\n"
   ]
  },
  {
   "cell_type": "code",
   "execution_count": 41,
   "id": "8f44d5a5",
   "metadata": {},
   "outputs": [
    {
     "data": {
      "text/plain": [
       "['', '234']"
      ]
     },
     "execution_count": 41,
     "metadata": {},
     "output_type": "execute_result"
    }
   ],
   "source": [
    "x = \"1234\"\n",
    "re.split('1',x)"
   ]
  },
  {
   "cell_type": "code",
   "execution_count": 45,
   "id": "4eecaeb1",
   "metadata": {},
   "outputs": [
    {
     "data": {
      "text/plain": [
       "['my', 'name', 'is', 'ankit']"
      ]
     },
     "execution_count": 45,
     "metadata": {},
     "output_type": "execute_result"
    }
   ],
   "source": [
    "x = ('my name is ankit')\n",
    "x.split()"
   ]
  },
  {
   "cell_type": "code",
   "execution_count": 46,
   "id": "58296f71",
   "metadata": {},
   "outputs": [
    {
     "data": {
      "text/plain": [
       "['', 'y na', 'e is ankit']"
      ]
     },
     "execution_count": 46,
     "metadata": {},
     "output_type": "execute_result"
    }
   ],
   "source": [
    "x = ('my name is ankit')\n",
    "re.split('m',x)"
   ]
  },
  {
   "cell_type": "code",
   "execution_count": null,
   "id": "88859593",
   "metadata": {},
   "outputs": [],
   "source": []
  }
 ],
 "metadata": {
  "kernelspec": {
   "display_name": "Python 3 (ipykernel)",
   "language": "python",
   "name": "python3"
  },
  "language_info": {
   "codemirror_mode": {
    "name": "ipython",
    "version": 3
   },
   "file_extension": ".py",
   "mimetype": "text/x-python",
   "name": "python",
   "nbconvert_exporter": "python",
   "pygments_lexer": "ipython3",
   "version": "3.9.7"
  }
 },
 "nbformat": 4,
 "nbformat_minor": 5
}
