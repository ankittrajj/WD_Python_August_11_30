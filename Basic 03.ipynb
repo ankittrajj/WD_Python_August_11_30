{
 "cells": [
  {
   "cell_type": "code",
   "execution_count": 3,
   "id": "1c765f9f",
   "metadata": {},
   "outputs": [
    {
     "name": "stdout",
     "output_type": "stream",
     "text": [
      "Enter something!!dqwiydgf^Y$*^&57858@....\n",
      "dqwiydgf^Y$*^&57858@....\n"
     ]
    }
   ],
   "source": [
    "# user input -----> \n",
    "\n",
    "# syntax ----> inp(\"msg\")\n",
    "#                 operation\n",
    "\n",
    "x = input(\"Enter something!!\")\n",
    "print(x)\n"
   ]
  },
  {
   "cell_type": "code",
   "execution_count": 6,
   "id": "430f7ed3",
   "metadata": {},
   "outputs": [
    {
     "name": "stdout",
     "output_type": "stream",
     "text": [
      "Enter the first num5\n",
      "Enter the second num1\n",
      "6\n"
     ]
    }
   ],
   "source": [
    "# Wap to add two numbers using user input.\n",
    "\n",
    "a = int(input(\"Enter the first num\"))\n",
    "b = int(input(\"Enter the second num\"))\n",
    "c = a+b\n",
    "print(c)"
   ]
  },
  {
   "cell_type": "code",
   "execution_count": 5,
   "id": "de5d867c",
   "metadata": {},
   "outputs": [
    {
     "name": "stdout",
     "output_type": "stream",
     "text": [
      "51\n"
     ]
    }
   ],
   "source": [
    "a = \"5\"\n",
    "b = \"1\"\n",
    "c = a+b\n",
    "print(c)"
   ]
  },
  {
   "cell_type": "code",
   "execution_count": 7,
   "id": "0f3fc4d3",
   "metadata": {},
   "outputs": [
    {
     "name": "stdout",
     "output_type": "stream",
     "text": [
      "Enter the first num5.6\n",
      "Enter the second num8\n",
      "13.6\n"
     ]
    }
   ],
   "source": [
    "a = float(input(\"Enter the first num\"))\n",
    "b = int(input(\"Enter the second num\"))\n",
    "c = a+b\n",
    "print(c)"
   ]
  },
  {
   "cell_type": "code",
   "execution_count": 8,
   "id": "2770afc3",
   "metadata": {},
   "outputs": [
    {
     "name": "stdout",
     "output_type": "stream",
     "text": [
      "Enter the first num4\n",
      "Enter the second num5\n",
      "9.0\n"
     ]
    }
   ],
   "source": [
    "a = float(input(\"Enter the first num\"))\n",
    "b = int(input(\"Enter the second num\"))\n",
    "c = a+b\n",
    "print(c)"
   ]
  },
  {
   "cell_type": "code",
   "execution_count": 9,
   "id": "76500155",
   "metadata": {},
   "outputs": [
    {
     "name": "stdout",
     "output_type": "stream",
     "text": [
      "8.0\n"
     ]
    }
   ],
   "source": [
    "a = 8\n",
    "b = float(a)\n",
    "print(b)"
   ]
  },
  {
   "cell_type": "code",
   "execution_count": 11,
   "id": "41275aee",
   "metadata": {},
   "outputs": [
    {
     "name": "stdout",
     "output_type": "stream",
     "text": [
      "Enter the first num8\n",
      "Enter the second num6\n"
     ]
    },
    {
     "ename": "TypeError",
     "evalue": "unsupported operand type(s) for +: 'int' and 'str'",
     "output_type": "error",
     "traceback": [
      "\u001b[1;31m---------------------------------------------------------------------------\u001b[0m",
      "\u001b[1;31mTypeError\u001b[0m                                 Traceback (most recent call last)",
      "\u001b[1;32m~\\AppData\\Local\\Temp/ipykernel_1116/3182688863.py\u001b[0m in \u001b[0;36m<module>\u001b[1;34m\u001b[0m\n\u001b[0;32m      1\u001b[0m \u001b[0ma\u001b[0m \u001b[1;33m=\u001b[0m \u001b[0mint\u001b[0m\u001b[1;33m(\u001b[0m\u001b[0minput\u001b[0m\u001b[1;33m(\u001b[0m\u001b[1;34m\"Enter the first num\"\u001b[0m\u001b[1;33m)\u001b[0m\u001b[1;33m)\u001b[0m\u001b[1;33m\u001b[0m\u001b[1;33m\u001b[0m\u001b[0m\n\u001b[0;32m      2\u001b[0m \u001b[0mb\u001b[0m \u001b[1;33m=\u001b[0m \u001b[0minput\u001b[0m\u001b[1;33m(\u001b[0m\u001b[1;34m\"Enter the second num\"\u001b[0m\u001b[1;33m)\u001b[0m\u001b[1;33m\u001b[0m\u001b[1;33m\u001b[0m\u001b[0m\n\u001b[1;32m----> 3\u001b[1;33m \u001b[0mc\u001b[0m \u001b[1;33m=\u001b[0m \u001b[0ma\u001b[0m\u001b[1;33m+\u001b[0m\u001b[0mb\u001b[0m\u001b[1;33m\u001b[0m\u001b[1;33m\u001b[0m\u001b[0m\n\u001b[0m\u001b[0;32m      4\u001b[0m \u001b[0mprint\u001b[0m\u001b[1;33m(\u001b[0m\u001b[0mc\u001b[0m\u001b[1;33m)\u001b[0m\u001b[1;33m\u001b[0m\u001b[1;33m\u001b[0m\u001b[0m\n",
      "\u001b[1;31mTypeError\u001b[0m: unsupported operand type(s) for +: 'int' and 'str'"
     ]
    }
   ],
   "source": [
    "a = int(input(\"Enter the first num\"))\n",
    "b = input(\"Enter the second num\")\n",
    "c = a+b\n",
    "print(c)"
   ]
  },
  {
   "cell_type": "code",
   "execution_count": 12,
   "id": "d79729fe",
   "metadata": {},
   "outputs": [
    {
     "name": "stdout",
     "output_type": "stream",
     "text": [
      "Enter the marks11\n",
      "Enter the marks2 2\n",
      "Enter the marks33\n",
      "2.0\n"
     ]
    }
   ],
   "source": [
    "#wap to find the avg of a student in 3 subjects?\n",
    "a = int(input(\"Enter the marks1\"))\n",
    "b = int(input(\"Enter the marks2 \"))\n",
    "c = int(input(\"Enter the marks3\"))\n",
    "\n",
    "avg = (a+b+c)/3\n",
    "print(avg)\n",
    "\n"
   ]
  },
  {
   "cell_type": "markdown",
   "id": "8f2f09bc",
   "metadata": {},
   "source": [
    "# Condition!!"
   ]
  },
  {
   "cell_type": "code",
   "execution_count": 17,
   "id": "4a6326d3",
   "metadata": {},
   "outputs": [
    {
     "name": "stdout",
     "output_type": "stream",
     "text": [
      "vote krne chlo bhai!!\n"
     ]
    }
   ],
   "source": [
    "# Syntax---->\n",
    "\n",
    "# if condition:\n",
    "#     print the msg\n",
    "# else:\n",
    "#     print the msg\n",
    "\n",
    "age = 18\n",
    "\n",
    "if age>=18:\n",
    "    print(\"vote krne chlo bhai!!\")\n",
    "else:\n",
    "    print(\"no vote\")"
   ]
  },
  {
   "cell_type": "code",
   "execution_count": 21,
   "id": "0fc19418",
   "metadata": {},
   "outputs": [
    {
     "name": "stdout",
     "output_type": "stream",
     "text": [
      "First time voter\n"
     ]
    }
   ],
   "source": [
    "age = 18\n",
    "\n",
    "if age>18:\n",
    "    print(\"vote krne chlo bhai!!\")\n",
    "elif age == 18:\n",
    "    print(\"First time voter\")\n",
    "else:\n",
    "    print(\"no vote\")"
   ]
  },
  {
   "cell_type": "code",
   "execution_count": 22,
   "id": "e1c2f361",
   "metadata": {},
   "outputs": [],
   "source": [
    "#wap to find the odd and even number .\n",
    "\n",
    "# #wap to find a individual is a child or adult.\n",
    "\n",
    "# #wap to find the if it is rainy outside or not \n",
    "# condition is if temp is 20 degree then it is rainy.\n",
    "\n",
    "# Wap to print holiday if the day is sunday otherwise \n",
    "# print boring day ."
   ]
  },
  {
   "cell_type": "code",
   "execution_count": 23,
   "id": "4131fbb8",
   "metadata": {},
   "outputs": [
    {
     "name": "stdout",
     "output_type": "stream",
     "text": [
      "Odd\n"
     ]
    }
   ],
   "source": [
    "a = 67\n",
    "if a%2 == 0:\n",
    "    print(\"Even\")\n",
    "else:\n",
    "    print(\"Odd\")"
   ]
  },
  {
   "cell_type": "code",
   "execution_count": 24,
   "id": "ebe457f5",
   "metadata": {},
   "outputs": [
    {
     "name": "stdout",
     "output_type": "stream",
     "text": [
      "Odd\n"
     ]
    }
   ],
   "source": [
    "a = 67\n",
    "if a%2 != 0:\n",
    "    print(\"Odd\")\n",
    "else:\n",
    "    print(\"Even\")"
   ]
  },
  {
   "cell_type": "code",
   "execution_count": 28,
   "id": "9b3afc97",
   "metadata": {},
   "outputs": [
    {
     "name": "stdout",
     "output_type": "stream",
     "text": [
      "enter the age45\n",
      "Adult\n"
     ]
    }
   ],
   "source": [
    "# #wap to find a individual is a child or adult.\n",
    "\n",
    "a = int(input(\"enter the age\"))\n",
    "if a > 18:\n",
    "    print(\"Adult\")\n",
    "else:\n",
    "    print(\"choti bacchi ho kya!!\")"
   ]
  },
  {
   "cell_type": "code",
   "execution_count": 29,
   "id": "f6465f7d",
   "metadata": {},
   "outputs": [
    {
     "name": "stdout",
     "output_type": "stream",
     "text": [
      "Barso re megha bhai!!\n"
     ]
    }
   ],
   "source": [
    "# #wap to find the if it is rainy outside or not \n",
    "# condition is if temp is 20 degree then it is rainy.\n",
    "\n",
    "temp = 20\n",
    "if temp == 20:\n",
    "    print(\"Barso re megha bhai!!\")\n",
    "    "
   ]
  },
  {
   "cell_type": "code",
   "execution_count": null,
   "id": "473ef5e6",
   "metadata": {},
   "outputs": [],
   "source": [
    "# Wap to print holiday if the day is sunday otherwise \n",
    "# print boring day .\n",
    "\n",
    "\n",
    "day = input(\"Enter the day\")\n",
    "if day == \"sunday\":\n",
    "    print(\"holiday\")\n",
    "else:\n",
    "    print(\"Boring day!!\")"
   ]
  },
  {
   "cell_type": "code",
   "execution_count": null,
   "id": "3caa042a",
   "metadata": {},
   "outputs": [],
   "source": []
  }
 ],
 "metadata": {
  "kernelspec": {
   "display_name": "Python 3 (ipykernel)",
   "language": "python",
   "name": "python3"
  },
  "language_info": {
   "codemirror_mode": {
    "name": "ipython",
    "version": 3
   },
   "file_extension": ".py",
   "mimetype": "text/x-python",
   "name": "python",
   "nbconvert_exporter": "python",
   "pygments_lexer": "ipython3",
   "version": "3.9.7"
  }
 },
 "nbformat": 4,
 "nbformat_minor": 5
}
